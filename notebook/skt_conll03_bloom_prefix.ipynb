{
 "cells": [
  {
   "cell_type": "code",
   "execution_count": 1,
   "id": "437f7499-a57b-48f2-8a39-9e7640c3577c",
   "metadata": {},
   "outputs": [],
   "source": []
  },
  {
   "cell_type": "code",
   "execution_count": 2,
   "id": "facad542-a38b-412d-a3a5-71bad8be82da",
   "metadata": {},
   "outputs": [],
   "source": [
    "\n",
    "from datasets import load_dataset\n",
    "\n",
    "conll = load_dataset(\"conll2003\")"
   ]
  },
  {
   "cell_type": "code",
   "execution_count": 3,
   "id": "8a30fec4-4bd5-44de-8a14-69ce2d8b3b68",
   "metadata": {},
   "outputs": [
    {
     "data": {
      "text/plain": [
       "{'id': '0',\n",
       " 'tokens': ['EU',\n",
       "  'rejects',\n",
       "  'German',\n",
       "  'call',\n",
       "  'to',\n",
       "  'boycott',\n",
       "  'British',\n",
       "  'lamb',\n",
       "  '.'],\n",
       " 'pos_tags': [22, 42, 16, 21, 35, 37, 16, 21, 7],\n",
       " 'chunk_tags': [11, 21, 11, 12, 21, 22, 11, 12, 0],\n",
       " 'ner_tags': [3, 0, 7, 0, 0, 0, 7, 0, 0]}"
      ]
     },
     "execution_count": 3,
     "metadata": {},
     "output_type": "execute_result"
    }
   ],
   "source": [
    "conll[\"train\"][0]"
   ]
  },
  {
   "cell_type": "code",
   "execution_count": 4,
   "id": "73a52532-75c5-472c-95a7-e2b4fddbcd2b",
   "metadata": {},
   "outputs": [
    {
     "data": {
      "text/plain": [
       "['O', 'B-PER', 'I-PER', 'B-ORG', 'I-ORG', 'B-LOC', 'I-LOC', 'B-MISC', 'I-MISC']"
      ]
     },
     "execution_count": 4,
     "metadata": {},
     "output_type": "execute_result"
    }
   ],
   "source": [
    "label_list = conll[\"train\"].features[f\"ner_tags\"].feature.names\n",
    "label_list"
   ]
  },
  {
   "cell_type": "code",
   "execution_count": 5,
   "id": "01d0d859-2984-4f08-b9bd-0b3945340148",
   "metadata": {},
   "outputs": [],
   "source": [
    "from transformers import AutoTokenizer\n",
    "\n",
    "tokenizer = AutoTokenizer.from_pretrained(\"bigscience/bloomz-7b1\", add_prefix_space=True)\n",
    "tokenizer.pad_token_id = tokenizer.eos_token_id\n",
    "tokenizer.pad_token = tokenizer.eos_token"
   ]
  },
  {
   "cell_type": "code",
   "execution_count": 6,
   "id": "e81695d9-0a11-4f19-906f-289e10a7e4a3",
   "metadata": {},
   "outputs": [],
   "source": [
    "label_all_tokens = True\n",
    "\n",
    "def tokenize_and_align_labels(examples):\n",
    "    tokenized_inputs = tokenizer(examples[\"tokens\"], truncation=True, is_split_into_words=True)\n",
    "\n",
    "    labels = []\n",
    "    for i, label in enumerate(examples[f\"ner_tags\"]):\n",
    "        word_ids = tokenized_inputs.word_ids(batch_index=i)\n",
    "        previous_word_idx = None\n",
    "        label_ids = []\n",
    "        for word_idx in word_ids:\n",
    "            # Special tokens have a word id that is None. We set the label to -100 so they are automatically\n",
    "            # ignored in the loss function.\n",
    "            if word_idx is None:\n",
    "                label_ids.append(-100)\n",
    "            # We set the label for the first token of each word.\n",
    "            elif word_idx != previous_word_idx:\n",
    "                label_ids.append(label[word_idx])\n",
    "            # For the other tokens in a word, we set the label to either the current label or -100, depending on\n",
    "            # the label_all_tokens flag.\n",
    "            else:\n",
    "                label_ids.append(label[word_idx] if label_all_tokens else -100)\n",
    "            previous_word_idx = word_idx\n",
    "\n",
    "        labels.append(label_ids)\n",
    "\n",
    "    tokenized_inputs[\"labels\"] = labels\n",
    "    return tokenized_inputs"
   ]
  },
  {
   "cell_type": "code",
   "execution_count": 7,
   "id": "e91a2509-6e2d-406e-b185-8d07c16ef4a0",
   "metadata": {},
   "outputs": [],
   "source": [
    "tokenized_dataset = conll.map(tokenize_and_align_labels, batched=True)"
   ]
  },
  {
   "cell_type": "code",
   "execution_count": 8,
   "id": "afcd8b43-f5b9-4984-a1a0-dfe0fc4e37cc",
   "metadata": {},
   "outputs": [
    {
     "data": {
      "text/plain": [
       "DatasetDict({\n",
       "    train: Dataset({\n",
       "        features: ['id', 'tokens', 'pos_tags', 'chunk_tags', 'ner_tags', 'input_ids', 'attention_mask', 'labels'],\n",
       "        num_rows: 14041\n",
       "    })\n",
       "    validation: Dataset({\n",
       "        features: ['id', 'tokens', 'pos_tags', 'chunk_tags', 'ner_tags', 'input_ids', 'attention_mask', 'labels'],\n",
       "        num_rows: 3250\n",
       "    })\n",
       "    test: Dataset({\n",
       "        features: ['id', 'tokens', 'pos_tags', 'chunk_tags', 'ner_tags', 'input_ids', 'attention_mask', 'labels'],\n",
       "        num_rows: 3453\n",
       "    })\n",
       "})"
      ]
     },
     "execution_count": 8,
     "metadata": {},
     "output_type": "execute_result"
    }
   ],
   "source": [
    "tokenized_dataset"
   ]
  },
  {
   "cell_type": "code",
   "execution_count": 9,
   "id": "3ab8b1d7-a676-44af-b63c-0b4dd96447a7",
   "metadata": {},
   "outputs": [],
   "source": [
    "from transformers import DataCollatorForTokenClassification\n",
    "\n",
    "data_collator = DataCollatorForTokenClassification(tokenizer=tokenizer)"
   ]
  },
  {
   "cell_type": "code",
   "execution_count": 10,
   "id": "652ab004-a66b-4a02-bd1a-5947f19ce5b4",
   "metadata": {},
   "outputs": [],
   "source": [
    "import evaluate\n",
    "\n",
    "seqeval = evaluate.load(\"seqeval\")"
   ]
  },
  {
   "cell_type": "code",
   "execution_count": 11,
   "id": "e33c4663-a10e-4eb6-a0e2-7d3211f3a1b1",
   "metadata": {},
   "outputs": [],
   "source": [
    "import numpy as np\n",
    "\n",
    "\n",
    "def compute_metrics(p):\n",
    "    predictions, labels = p\n",
    "    predictions = np.argmax(predictions, axis=2)\n",
    "\n",
    "    true_predictions = [\n",
    "        [label_list[p] for (p, l) in zip(prediction, label) if l != -100]\n",
    "        for prediction, label in zip(predictions, labels)\n",
    "    ]\n",
    "    true_labels = [\n",
    "        [label_list[l] for (p, l) in zip(prediction, label) if l != -100]\n",
    "        for prediction, label in zip(predictions, labels)\n",
    "    ]\n",
    "\n",
    "    results = seqeval.compute(predictions=true_predictions, references=true_labels)\n",
    "    return {\n",
    "        \"precision\": results[\"overall_precision\"],\n",
    "        \"recall\": results[\"overall_recall\"],\n",
    "        \"f1\": results[\"overall_f1\"],\n",
    "        \"accuracy\": results[\"overall_accuracy\"],\n",
    "    }"
   ]
  },
  {
   "cell_type": "code",
   "execution_count": 12,
   "id": "a34ca63f-c1f0-439d-8192-bfcb339ebe9f",
   "metadata": {},
   "outputs": [],
   "source": [
    "label2id = {'O': 0, 'B-PER': 1, 'I-PER': 2, 'B-ORG': 3, 'I-ORG': 4, 'B-LOC': 5, 'I-LOC': 6, 'B-MISC': 7, 'I-MISC': 8}"
   ]
  },
  {
   "cell_type": "code",
   "execution_count": 13,
   "id": "ae3f412e-d996-43cc-8282-6f671e3746c0",
   "metadata": {},
   "outputs": [],
   "source": [
    "id2label = {0 : 'O', 1 : 'B-PER', 2 : 'I-PER', 3 : 'B-ORG', 4 : 'I-ORG', 5 : 'B-LOC', 6 : 'I-LOC', 7 : 'B-MISC', 8 : 'I-MISC'}"
   ]
  },
  {
   "cell_type": "code",
   "execution_count": 14,
   "id": "aa986df5-c30c-4ee9-8d88-6dbdb4b3a143",
   "metadata": {},
   "outputs": [],
   "source": [
    "from transformers import AutoModelForCausalLM, AutoTokenizer, default_data_collator, get_linear_schedule_with_warmup\n",
    "from peft import get_peft_config, get_peft_model,  PrefixTuningConfig, TaskType, PeftType, PrefixEncoder\n",
    "import torch\n",
    "from datasets import load_dataset\n",
    "import os\n",
    "from torch.utils.data import DataLoader\n",
    "from tqdm import tqdm"
   ]
  },
  {
   "cell_type": "code",
   "execution_count": 15,
   "id": "2bd0d35b-c341-4444-8da9-556802371cdb",
   "metadata": {},
   "outputs": [
    {
     "data": {
      "text/plain": [
       "BloomConfig {\n",
       "  \"_name_or_path\": \"bigscience/bloomz-7b1\",\n",
       "  \"apply_residual_connection_post_layernorm\": false,\n",
       "  \"architectures\": [\n",
       "    \"BloomForCausalLM\"\n",
       "  ],\n",
       "  \"attention_dropout\": 0.0,\n",
       "  \"attention_softmax_in_fp32\": true,\n",
       "  \"bias_dropout_fusion\": true,\n",
       "  \"bos_token_id\": 1,\n",
       "  \"eos_token_id\": 2,\n",
       "  \"hidden_dropout\": 0.0,\n",
       "  \"hidden_size\": 4096,\n",
       "  \"initializer_range\": 0.02,\n",
       "  \"layer_norm_epsilon\": 1e-05,\n",
       "  \"masked_softmax_fusion\": true,\n",
       "  \"model_type\": \"bloom\",\n",
       "  \"n_head\": 32,\n",
       "  \"n_inner\": null,\n",
       "  \"n_layer\": 30,\n",
       "  \"offset_alibi\": 100,\n",
       "  \"pad_token_id\": 3,\n",
       "  \"pretraining_tp\": 4,\n",
       "  \"seq_length\": 2048,\n",
       "  \"skip_bias_add\": true,\n",
       "  \"skip_bias_add_qkv\": false,\n",
       "  \"slow_but_exact\": false,\n",
       "  \"transformers_version\": \"4.36.2\",\n",
       "  \"unk_token_id\": 0,\n",
       "  \"use_cache\": true,\n",
       "  \"vocab_size\": 250880\n",
       "}"
      ]
     },
     "execution_count": 15,
     "metadata": {},
     "output_type": "execute_result"
    }
   ],
   "source": [
    "from transformers import AutoConfig\n",
    "model_name=\"bigscience/bloomz-7b1\"\n",
    "config = AutoConfig.from_pretrained(model_name)\n",
    "config"
   ]
  },
  {
   "cell_type": "code",
   "execution_count": 16,
   "id": "4bcf834f-d0d1-482a-ae09-99ad4b1bdd03",
   "metadata": {},
   "outputs": [],
   "source": [
    "config._name_or_path=model_name\n",
    "config.hidden_size=4096\n",
    "config.num_hidden_layers=30\n",
    "config.n_head=32\n",
    "config.num_labels=9\n",
    "\n",
    "config.hidden_dropout = 0.1\n",
    "config.transform=False\n",
    "config.text='classify the token of the text:'"
   ]
  },
  {
   "cell_type": "code",
   "execution_count": 17,
   "id": "825c2621-ea3a-4dd1-8624-74204ef12385",
   "metadata": {},
   "outputs": [
    {
     "name": "stderr",
     "output_type": "stream",
     "text": [
      "Some weights of PromptForTokenClassification were not initialized from the model checkpoint at bigscience/bloomz-7b1 and are newly initialized: ['transformer.h.0.mlp.dense_4h_to_h.weight', 'transformer.h.9.mlp.dense_4h_to_h.bias', 'transformer.h.14.post_attention_layernorm.weight', 'transformer.h.16.post_attention_layernorm.weight', 'transformer.h.17.self_attention.dense.weight', 'transformer.h.17.mlp.dense_4h_to_h.bias', 'transformer.h.14.input_layernorm.weight', 'transformer.h.6.post_attention_layernorm.weight', 'transformer.h.13.self_attention.dense.bias', 'transformer.h.20.input_layernorm.bias', 'transformer.h.27.input_layernorm.bias', 'transformer.h.2.post_attention_layernorm.weight', 'transformer.h.0.post_attention_layernorm.weight', 'transformer.h.11.self_attention.dense.weight', 'transformer.h.10.self_attention.query_key_value.weight', 'transformer.h.10.mlp.dense_h_to_4h.bias', 'transformer.h.5.input_layernorm.bias', 'transformer.h.20.self_attention.query_key_value.bias', 'transformer.h.22.mlp.dense_h_to_4h.weight', 'transformer.h.10.post_attention_layernorm.bias', 'transformer.h.11.self_attention.query_key_value.weight', 'transformer.h.2.self_attention.query_key_value.weight', 'transformer.h.7.self_attention.dense.bias', 'transformer.h.29.self_attention.query_key_value.bias', 'transformer.h.24.post_attention_layernorm.weight', 'transformer.h.4.self_attention.query_key_value.weight', 'transformer.h.7.mlp.dense_h_to_4h.bias', 'transformer.h.18.self_attention.dense.bias', 'transformer.h.25.post_attention_layernorm.weight', 'transformer.h.20.mlp.dense_h_to_4h.weight', 'transformer.h.27.post_attention_layernorm.weight', 'transformer.h.20.input_layernorm.weight', 'transformer.h.10.self_attention.dense.weight', 'transformer.h.17.mlp.dense_h_to_4h.weight', 'transformer.h.19.input_layernorm.weight', 'transformer.h.27.input_layernorm.weight', 'transformer.h.10.self_attention.query_key_value.bias', 'transformer.h.11.self_attention.dense.bias', 'transformer.h.21.post_attention_layernorm.bias', 'transformer.h.25.mlp.dense_h_to_4h.weight', 'transformer.h.29.post_attention_layernorm.bias', 'transformer.h.21.mlp.dense_4h_to_h.bias', 'transformer.h.8.self_attention.query_key_value.bias', 'transformer.h.19.self_attention.query_key_value.weight', 'transformer.h.9.mlp.dense_h_to_4h.weight', 'transformer.h.12.self_attention.query_key_value.bias', 'transformer.h.27.self_attention.query_key_value.weight', 'transformer.h.24.self_attention.query_key_value.bias', 'transformer.h.7.mlp.dense_4h_to_h.bias', 'transformer.h.8.input_layernorm.weight', 'transformer.h.3.self_attention.query_key_value.bias', 'transformer.h.1.mlp.dense_4h_to_h.weight', 'transformer.h.15.self_attention.dense.weight', 'transformer.h.28.mlp.dense_h_to_4h.weight', 'transformer.h.6.self_attention.query_key_value.weight', 'transformer.h.7.self_attention.dense.weight', 'transformer.h.22.self_attention.dense.weight', 'transformer.h.22.input_layernorm.weight', 'transformer.h.17.post_attention_layernorm.bias', 'transformer.h.10.mlp.dense_4h_to_h.weight', 'transformer.h.17.post_attention_layernorm.weight', 'transformer.h.0.mlp.dense_h_to_4h.bias', 'transformer.h.2.mlp.dense_h_to_4h.weight', 'transformer.h.1.input_layernorm.weight', 'transformer.h.19.post_attention_layernorm.weight', 'transformer.h.15.mlp.dense_4h_to_h.weight', 'transformer.h.0.mlp.dense_h_to_4h.weight', 'transformer.h.5.self_attention.query_key_value.weight', 'transformer.h.25.self_attention.query_key_value.bias', 'transformer.h.2.self_attention.dense.weight', 'transformer.h.24.mlp.dense_h_to_4h.weight', 'transformer.h.8.mlp.dense_4h_to_h.bias', 'transformer.h.21.self_attention.query_key_value.bias', 'transformer.h.1.self_attention.query_key_value.bias', 'transformer.h.24.mlp.dense_4h_to_h.weight', 'transformer.h.11.mlp.dense_4h_to_h.bias', 'transformer.h.13.post_attention_layernorm.weight', 'transformer.h.13.mlp.dense_h_to_4h.bias', 'transformer.h.23.self_attention.dense.weight', 'transformer.h.7.self_attention.query_key_value.bias', 'score.weight', 'transformer.h.3.post_attention_layernorm.weight', 'transformer.h.9.mlp.dense_4h_to_h.weight', 'transformer.h.11.post_attention_layernorm.bias', 'transformer.h.25.self_attention.query_key_value.weight', 'transformer.h.29.self_attention.dense.weight', 'transformer.h.20.mlp.dense_4h_to_h.bias', 'transformer.h.1.input_layernorm.bias', 'transformer.h.21.self_attention.dense.weight', 'transformer.h.19.input_layernorm.bias', 'transformer.h.21.input_layernorm.bias', 'transformer.h.28.self_attention.query_key_value.bias', 'transformer.h.18.mlp.dense_4h_to_h.bias', 'transformer.h.4.post_attention_layernorm.weight', 'transformer.h.6.self_attention.dense.weight', 'transformer.h.5.mlp.dense_h_to_4h.bias', 'transformer.h.17.mlp.dense_4h_to_h.weight', 'transformer.h.5.post_attention_layernorm.bias', 'transformer.h.13.post_attention_layernorm.bias', 'transformer.h.12.self_attention.dense.bias', 'transformer.h.9.self_attention.query_key_value.bias', 'transformer.h.22.input_layernorm.bias', 'transformer.h.24.input_layernorm.weight', 'transformer.word_embeddings_layernorm.weight', 'transformer.h.11.self_attention.query_key_value.bias', 'transformer.h.25.mlp.dense_4h_to_h.bias', 'transformer.h.21.self_attention.dense.bias', 'transformer.h.13.input_layernorm.bias', 'transformer.h.24.mlp.dense_4h_to_h.bias', 'transformer.h.23.input_layernorm.bias', 'transformer.h.20.self_attention.query_key_value.weight', 'transformer.h.25.self_attention.dense.weight', 'transformer.h.0.self_attention.query_key_value.weight', 'transformer.h.16.mlp.dense_h_to_4h.weight', 'transformer.h.1.post_attention_layernorm.weight', 'transformer.h.22.self_attention.query_key_value.bias', 'transformer.h.25.post_attention_layernorm.bias', 'transformer.h.2.self_attention.query_key_value.bias', 'transformer.ln_f.weight', 'transformer.h.2.mlp.dense_4h_to_h.bias', 'transformer.h.10.input_layernorm.weight', 'transformer.h.25.input_layernorm.bias', 'transformer.h.25.mlp.dense_h_to_4h.bias', 'transformer.h.20.post_attention_layernorm.weight', 'transformer.h.29.post_attention_layernorm.weight', 'transformer.h.2.input_layernorm.weight', 'transformer.h.29.mlp.dense_4h_to_h.bias', 'transformer.h.15.post_attention_layernorm.bias', 'transformer.h.24.self_attention.dense.weight', 'transformer.h.2.post_attention_layernorm.bias', 'transformer.h.15.mlp.dense_h_to_4h.bias', 'transformer.h.24.mlp.dense_h_to_4h.bias', 'transformer.h.7.input_layernorm.weight', 'transformer.h.15.mlp.dense_4h_to_h.bias', 'transformer.h.12.self_attention.dense.weight', 'transformer.h.14.mlp.dense_h_to_4h.bias', 'transformer.h.28.self_attention.dense.bias', 'transformer.h.14.post_attention_layernorm.bias', 'transformer.h.1.mlp.dense_h_to_4h.weight', 'transformer.h.6.mlp.dense_h_to_4h.weight', 'transformer.h.1.self_attention.dense.weight', 'transformer.h.18.mlp.dense_4h_to_h.weight', 'transformer.h.11.mlp.dense_h_to_4h.bias', 'transformer.h.19.mlp.dense_4h_to_h.bias', 'transformer.h.16.self_attention.dense.weight', 'transformer.h.2.mlp.dense_4h_to_h.weight', 'transformer.h.12.input_layernorm.bias', 'transformer.h.7.mlp.dense_h_to_4h.weight', 'transformer.word_embeddings_layernorm.bias', 'transformer.h.11.input_layernorm.bias', 'transformer.h.18.mlp.dense_h_to_4h.bias', 'transformer.h.7.input_layernorm.bias', 'transformer.h.6.mlp.dense_4h_to_h.bias', 'transformer.h.3.self_attention.dense.bias', 'transformer.h.4.self_attention.dense.bias', 'transformer.h.12.mlp.dense_4h_to_h.weight', 'transformer.h.3.mlp.dense_h_to_4h.bias', 'transformer.h.13.self_attention.dense.weight', 'transformer.h.27.self_attention.dense.weight', 'transformer.h.16.self_attention.dense.bias', 'transformer.h.13.self_attention.query_key_value.bias', 'transformer.h.18.self_attention.dense.weight', 'transformer.h.8.input_layernorm.bias', 'transformer.h.8.mlp.dense_4h_to_h.weight', 'transformer.h.1.post_attention_layernorm.bias', 'transformer.h.6.self_attention.query_key_value.bias', 'transformer.h.27.mlp.dense_4h_to_h.bias', 'transformer.h.28.self_attention.query_key_value.weight', 'transformer.h.8.mlp.dense_h_to_4h.bias', 'transformer.h.29.input_layernorm.weight', 'transformer.h.15.self_attention.dense.bias', 'transformer.h.29.mlp.dense_4h_to_h.weight', 'transformer.h.3.mlp.dense_h_to_4h.weight', 'transformer.h.24.self_attention.dense.bias', 'transformer.h.7.mlp.dense_4h_to_h.weight', 'transformer.h.19.mlp.dense_h_to_4h.weight', 'transformer.h.4.mlp.dense_4h_to_h.bias', 'transformer.h.17.self_attention.query_key_value.weight', 'transformer.h.29.input_layernorm.bias', 'transformer.h.5.mlp.dense_4h_to_h.bias', 'transformer.word_embeddings.weight', 'score.bias', 'transformer.h.28.input_layernorm.bias', 'transformer.h.6.post_attention_layernorm.bias', 'transformer.h.1.self_attention.dense.bias', 'transformer.h.13.mlp.dense_h_to_4h.weight', 'transformer.h.1.self_attention.query_key_value.weight', 'transformer.h.0.self_attention.dense.bias', 'transformer.h.12.mlp.dense_h_to_4h.bias', 'transformer.h.23.mlp.dense_h_to_4h.weight', 'transformer.h.16.input_layernorm.weight', 'transformer.h.10.post_attention_layernorm.weight', 'transformer.h.18.input_layernorm.bias', 'transformer.h.23.mlp.dense_h_to_4h.bias', 'transformer.h.12.self_attention.query_key_value.weight', 'transformer.h.27.mlp.dense_h_to_4h.weight', 'transformer.h.12.input_layernorm.weight', 'transformer.h.20.mlp.dense_h_to_4h.bias', 'transformer.h.25.self_attention.dense.bias', 'transformer.h.4.input_layernorm.bias', 'transformer.h.19.self_attention.dense.weight', 'transformer.h.4.mlp.dense_h_to_4h.weight', 'transformer.h.18.input_layernorm.weight', 'transformer.h.27.post_attention_layernorm.bias', 'transformer.h.21.mlp.dense_h_to_4h.bias', 'transformer.h.28.post_attention_layernorm.bias', 'transformer.h.22.mlp.dense_4h_to_h.bias', 'transformer.ln_f.bias', 'transformer.h.23.mlp.dense_4h_to_h.weight', 'transformer.h.29.self_attention.query_key_value.weight', 'transformer.h.21.post_attention_layernorm.weight', 'transformer.h.27.self_attention.query_key_value.bias', 'transformer.h.8.mlp.dense_h_to_4h.weight', 'transformer.h.21.self_attention.query_key_value.weight', 'transformer.h.11.input_layernorm.weight', 'transformer.h.0.input_layernorm.bias', 'transformer.h.2.self_attention.dense.bias', 'transformer.h.2.mlp.dense_h_to_4h.bias', 'transformer.h.23.self_attention.query_key_value.weight', 'transformer.h.11.mlp.dense_h_to_4h.weight', 'transformer.h.0.self_attention.query_key_value.bias', 'transformer.h.10.self_attention.dense.bias', 'transformer.h.14.mlp.dense_h_to_4h.weight', 'transformer.h.19.mlp.dense_h_to_4h.bias', 'transformer.h.16.self_attention.query_key_value.weight', 'transformer.h.20.mlp.dense_4h_to_h.weight', 'transformer.h.26.input_layernorm.weight', 'transformer.h.23.post_attention_layernorm.weight', 'transformer.h.28.mlp.dense_h_to_4h.bias', 'transformer.h.7.self_attention.query_key_value.weight', 'transformer.h.28.mlp.dense_4h_to_h.bias', 'transformer.h.15.mlp.dense_h_to_4h.weight', 'transformer.h.27.mlp.dense_4h_to_h.weight', 'transformer.h.5.post_attention_layernorm.weight', 'transformer.h.3.input_layernorm.bias', 'transformer.h.17.self_attention.dense.bias', 'transformer.h.16.post_attention_layernorm.bias', 'transformer.h.22.post_attention_layernorm.weight', 'transformer.h.7.post_attention_layernorm.bias', 'transformer.h.26.self_attention.query_key_value.weight', 'transformer.h.3.post_attention_layernorm.bias', 'transformer.h.8.post_attention_layernorm.bias', 'transformer.h.4.mlp.dense_h_to_4h.bias', 'transformer.h.15.input_layernorm.bias', 'transformer.h.28.mlp.dense_4h_to_h.weight', 'transformer.h.17.self_attention.query_key_value.bias', 'transformer.h.10.input_layernorm.bias', 'transformer.h.9.self_attention.dense.weight', 'transformer.h.13.self_attention.query_key_value.weight', 'transformer.h.4.mlp.dense_4h_to_h.weight', 'transformer.h.6.mlp.dense_h_to_4h.bias', 'transformer.h.26.mlp.dense_4h_to_h.bias', 'transformer.h.19.mlp.dense_4h_to_h.weight', 'transformer.h.4.self_attention.query_key_value.bias', 'transformer.h.13.input_layernorm.weight', 'transformer.h.1.mlp.dense_h_to_4h.bias', 'transformer.h.5.self_attention.query_key_value.bias', 'transformer.h.28.post_attention_layernorm.weight', 'transformer.h.21.mlp.dense_h_to_4h.weight', 'transformer.h.14.input_layernorm.bias', 'transformer.h.24.self_attention.query_key_value.weight', 'transformer.h.18.mlp.dense_h_to_4h.weight', 'transformer.h.26.post_attention_layernorm.weight', 'transformer.h.9.post_attention_layernorm.bias', 'transformer.h.9.self_attention.dense.bias', 'transformer.h.8.self_attention.dense.bias', 'transformer.h.29.mlp.dense_h_to_4h.bias', 'transformer.h.29.mlp.dense_h_to_4h.weight', 'transformer.h.9.post_attention_layernorm.weight', 'transformer.h.4.self_attention.dense.weight', 'transformer.h.21.input_layernorm.weight', 'transformer.h.22.self_attention.dense.bias', 'transformer.h.14.self_attention.query_key_value.bias', 'transformer.h.19.self_attention.dense.bias', 'transformer.h.3.self_attention.dense.weight', 'transformer.h.9.input_layernorm.bias', 'transformer.h.12.post_attention_layernorm.weight', 'prompt_encoder.embedding.weight', 'transformer.h.17.mlp.dense_h_to_4h.bias', 'transformer.h.1.mlp.dense_4h_to_h.bias', 'transformer.h.15.self_attention.query_key_value.bias', 'transformer.h.0.post_attention_layernorm.bias', 'transformer.h.23.post_attention_layernorm.bias', 'transformer.h.28.input_layernorm.weight', 'transformer.h.14.self_attention.dense.bias', 'transformer.h.11.post_attention_layernorm.weight', 'transformer.h.23.self_attention.query_key_value.bias', 'transformer.h.10.mlp.dense_h_to_4h.weight', 'transformer.h.3.input_layernorm.weight', 'transformer.h.5.self_attention.dense.bias', 'transformer.h.26.self_attention.dense.weight', 'transformer.h.18.self_attention.query_key_value.weight', 'transformer.h.17.input_layernorm.weight', 'transformer.h.0.mlp.dense_4h_to_h.bias', 'transformer.h.26.mlp.dense_h_to_4h.bias', 'transformer.h.3.self_attention.query_key_value.weight', 'transformer.h.12.mlp.dense_4h_to_h.bias', 'transformer.h.6.input_layernorm.bias', 'transformer.h.5.input_layernorm.weight', 'transformer.h.26.input_layernorm.bias', 'transformer.h.24.post_attention_layernorm.bias', 'transformer.h.6.self_attention.dense.bias', 'transformer.h.15.input_layernorm.weight', 'transformer.h.26.mlp.dense_4h_to_h.weight', 'transformer.h.7.post_attention_layernorm.weight', 'transformer.h.5.mlp.dense_4h_to_h.weight', 'transformer.h.26.mlp.dense_h_to_4h.weight', 'transformer.h.6.mlp.dense_4h_to_h.weight', 'transformer.h.3.mlp.dense_4h_to_h.weight', 'transformer.h.23.mlp.dense_4h_to_h.bias', 'transformer.h.23.input_layernorm.weight', 'transformer.h.16.mlp.dense_4h_to_h.bias', 'transformer.h.18.self_attention.query_key_value.bias', 'transformer.h.28.self_attention.dense.weight', 'transformer.h.14.self_attention.query_key_value.weight', 'transformer.h.20.post_attention_layernorm.bias', 'transformer.h.22.mlp.dense_h_to_4h.bias', 'transformer.h.11.mlp.dense_4h_to_h.weight', 'transformer.h.10.mlp.dense_4h_to_h.bias', 'transformer.h.4.post_attention_layernorm.bias', 'transformer.h.15.post_attention_layernorm.weight', 'transformer.h.13.mlp.dense_4h_to_h.weight', 'transformer.h.16.input_layernorm.bias', 'transformer.h.27.mlp.dense_h_to_4h.bias', 'transformer.h.24.input_layernorm.bias', 'transformer.h.19.post_attention_layernorm.bias', 'transformer.h.22.mlp.dense_4h_to_h.weight', 'transformer.h.8.self_attention.query_key_value.weight', 'transformer.h.15.self_attention.query_key_value.weight', 'transformer.h.16.mlp.dense_4h_to_h.weight', 'transformer.h.9.mlp.dense_h_to_4h.bias', 'transformer.h.20.self_attention.dense.bias', 'transformer.h.12.mlp.dense_h_to_4h.weight', 'transformer.h.23.self_attention.dense.bias', 'transformer.h.17.input_layernorm.bias', 'transformer.h.20.self_attention.dense.weight', 'transformer.h.27.self_attention.dense.bias', 'transformer.h.0.self_attention.dense.weight', 'transformer.h.5.mlp.dense_h_to_4h.weight', 'transformer.h.25.input_layernorm.weight', 'transformer.h.13.mlp.dense_4h_to_h.bias', 'transformer.h.26.post_attention_layernorm.bias', 'transformer.h.16.mlp.dense_h_to_4h.bias', 'transformer.h.6.input_layernorm.weight', 'transformer.h.18.post_attention_layernorm.weight', 'transformer.h.3.mlp.dense_4h_to_h.bias', 'transformer.h.2.input_layernorm.bias', 'transformer.h.22.self_attention.query_key_value.weight', 'transformer.h.8.post_attention_layernorm.weight', 'transformer.h.16.self_attention.query_key_value.bias', 'transformer.h.5.self_attention.dense.weight', 'transformer.h.0.input_layernorm.weight', 'transformer.h.18.post_attention_layernorm.bias', 'transformer.h.21.mlp.dense_4h_to_h.weight', 'transformer.h.14.self_attention.dense.weight', 'transformer.h.25.mlp.dense_4h_to_h.weight', 'transformer.h.4.input_layernorm.weight', 'transformer.h.29.self_attention.dense.bias', 'transformer.h.9.input_layernorm.weight', 'transformer.h.26.self_attention.query_key_value.bias', 'transformer.h.26.self_attention.dense.bias', 'transformer.h.8.self_attention.dense.weight', 'transformer.h.14.mlp.dense_4h_to_h.weight', 'transformer.h.9.self_attention.query_key_value.weight', 'transformer.h.19.self_attention.query_key_value.bias', 'transformer.h.22.post_attention_layernorm.bias', 'transformer.h.12.post_attention_layernorm.bias', 'transformer.h.14.mlp.dense_4h_to_h.bias']\n",
      "You should probably TRAIN this model on a down-stream task to be able to use it for predictions and inference.\n"
     ]
    },
    {
     "name": "stdout",
     "output_type": "stream",
     "text": [
      "Prompt sequence length 7\n"
     ]
    }
   ],
   "source": [
    "from falconSKT import  PrefixForTokenClassification\n",
    "\n",
    "model = PrefixForTokenClassification.from_pretrained(\n",
    "    model_name,\n",
    "    config=config,\n",
    "\n",
    ")"
   ]
  },
  {
   "cell_type": "code",
   "execution_count": 18,
   "id": "3c4f8aad-713e-421f-a8d5-581b802597b7",
   "metadata": {},
   "outputs": [
    {
     "name": "stderr",
     "output_type": "stream",
     "text": [
      "Detected kernel version 5.4.0, which is below the recommended minimum of 5.5.0; this can cause the process to hang. It is recommended to upgrade the kernel to the minimum version or higher.\n",
      "You're using a BloomTokenizerFast tokenizer. Please note that with a fast tokenizer, using the `__call__` method is faster than using a method to encode the text followed by a call to the `pad` method to get a padded encoding.\n"
     ]
    },
    {
     "data": {
      "text/html": [
       "\n",
       "    <div>\n",
       "      \n",
       "      <progress value='2075' max='7025' style='width:300px; height:20px; vertical-align: middle;'></progress>\n",
       "      [2075/7025 1:15:48 < 3:01:01, 0.46 it/s, Epoch 1.48/5]\n",
       "    </div>\n",
       "    <table border=\"1\" class=\"dataframe\">\n",
       "  <thead>\n",
       " <tr style=\"text-align: left;\">\n",
       "      <th>Step</th>\n",
       "      <th>Training Loss</th>\n",
       "      <th>Validation Loss</th>\n",
       "      <th>Precision</th>\n",
       "      <th>Recall</th>\n",
       "      <th>F1</th>\n",
       "      <th>Accuracy</th>\n",
       "    </tr>\n",
       "  </thead>\n",
       "  <tbody>\n",
       "    <tr>\n",
       "      <td>100</td>\n",
       "      <td>1.962000</td>\n",
       "      <td>0.613682</td>\n",
       "      <td>0.321164</td>\n",
       "      <td>0.377370</td>\n",
       "      <td>0.347006</td>\n",
       "      <td>0.832037</td>\n",
       "    </tr>\n",
       "    <tr>\n",
       "      <td>200</td>\n",
       "      <td>0.459200</td>\n",
       "      <td>0.420407</td>\n",
       "      <td>0.490348</td>\n",
       "      <td>0.523780</td>\n",
       "      <td>0.506513</td>\n",
       "      <td>0.885804</td>\n",
       "    </tr>\n",
       "    <tr>\n",
       "      <td>300</td>\n",
       "      <td>0.378400</td>\n",
       "      <td>0.355434</td>\n",
       "      <td>0.549511</td>\n",
       "      <td>0.576728</td>\n",
       "      <td>0.562791</td>\n",
       "      <td>0.901568</td>\n",
       "    </tr>\n",
       "    <tr>\n",
       "      <td>400</td>\n",
       "      <td>0.324700</td>\n",
       "      <td>0.318993</td>\n",
       "      <td>0.588116</td>\n",
       "      <td>0.630712</td>\n",
       "      <td>0.608670</td>\n",
       "      <td>0.914739</td>\n",
       "    </tr>\n",
       "    <tr>\n",
       "      <td>500</td>\n",
       "      <td>0.266400</td>\n",
       "      <td>0.309581</td>\n",
       "      <td>0.600635</td>\n",
       "      <td>0.627396</td>\n",
       "      <td>0.613724</td>\n",
       "      <td>0.918163</td>\n",
       "    </tr>\n",
       "    <tr>\n",
       "      <td>600</td>\n",
       "      <td>0.242200</td>\n",
       "      <td>0.285857</td>\n",
       "      <td>0.604860</td>\n",
       "      <td>0.678375</td>\n",
       "      <td>0.639512</td>\n",
       "      <td>0.922604</td>\n",
       "    </tr>\n",
       "    <tr>\n",
       "      <td>700</td>\n",
       "      <td>0.228100</td>\n",
       "      <td>0.264139</td>\n",
       "      <td>0.635337</td>\n",
       "      <td>0.687804</td>\n",
       "      <td>0.660530</td>\n",
       "      <td>0.926926</td>\n",
       "    </tr>\n",
       "    <tr>\n",
       "      <td>800</td>\n",
       "      <td>0.249900</td>\n",
       "      <td>0.266324</td>\n",
       "      <td>0.641806</td>\n",
       "      <td>0.686561</td>\n",
       "      <td>0.663429</td>\n",
       "      <td>0.928299</td>\n",
       "    </tr>\n",
       "    <tr>\n",
       "      <td>900</td>\n",
       "      <td>0.195300</td>\n",
       "      <td>0.261654</td>\n",
       "      <td>0.639182</td>\n",
       "      <td>0.689980</td>\n",
       "      <td>0.663611</td>\n",
       "      <td>0.930147</td>\n",
       "    </tr>\n",
       "    <tr>\n",
       "      <td>1000</td>\n",
       "      <td>0.212200</td>\n",
       "      <td>0.248676</td>\n",
       "      <td>0.645273</td>\n",
       "      <td>0.711532</td>\n",
       "      <td>0.676785</td>\n",
       "      <td>0.932232</td>\n",
       "    </tr>\n",
       "    <tr>\n",
       "      <td>1100</td>\n",
       "      <td>0.204000</td>\n",
       "      <td>0.245387</td>\n",
       "      <td>0.660376</td>\n",
       "      <td>0.714227</td>\n",
       "      <td>0.686246</td>\n",
       "      <td>0.934130</td>\n",
       "    </tr>\n",
       "    <tr>\n",
       "      <td>1200</td>\n",
       "      <td>0.187400</td>\n",
       "      <td>0.237956</td>\n",
       "      <td>0.682284</td>\n",
       "      <td>0.724277</td>\n",
       "      <td>0.702654</td>\n",
       "      <td>0.936588</td>\n",
       "    </tr>\n",
       "    <tr>\n",
       "      <td>1300</td>\n",
       "      <td>0.180600</td>\n",
       "      <td>0.238973</td>\n",
       "      <td>0.670812</td>\n",
       "      <td>0.715366</td>\n",
       "      <td>0.692373</td>\n",
       "      <td>0.935537</td>\n",
       "    </tr>\n",
       "    <tr>\n",
       "      <td>1400</td>\n",
       "      <td>0.167700</td>\n",
       "      <td>0.235670</td>\n",
       "      <td>0.677019</td>\n",
       "      <td>0.711532</td>\n",
       "      <td>0.693847</td>\n",
       "      <td>0.936690</td>\n",
       "    </tr>\n",
       "    <tr>\n",
       "      <td>1500</td>\n",
       "      <td>0.162400</td>\n",
       "      <td>0.235591</td>\n",
       "      <td>0.683353</td>\n",
       "      <td>0.738369</td>\n",
       "      <td>0.709796</td>\n",
       "      <td>0.938927</td>\n",
       "    </tr>\n",
       "    <tr>\n",
       "      <td>1600</td>\n",
       "      <td>0.164300</td>\n",
       "      <td>0.234914</td>\n",
       "      <td>0.670897</td>\n",
       "      <td>0.728526</td>\n",
       "      <td>0.698525</td>\n",
       "      <td>0.937130</td>\n",
       "    </tr>\n",
       "    <tr>\n",
       "      <td>1700</td>\n",
       "      <td>0.156800</td>\n",
       "      <td>0.229772</td>\n",
       "      <td>0.684979</td>\n",
       "      <td>0.733810</td>\n",
       "      <td>0.708554</td>\n",
       "      <td>0.939215</td>\n",
       "    </tr>\n",
       "    <tr>\n",
       "      <td>1800</td>\n",
       "      <td>0.144300</td>\n",
       "      <td>0.225683</td>\n",
       "      <td>0.693062</td>\n",
       "      <td>0.740027</td>\n",
       "      <td>0.715775</td>\n",
       "      <td>0.940825</td>\n",
       "    </tr>\n",
       "    <tr>\n",
       "      <td>1900</td>\n",
       "      <td>0.145700</td>\n",
       "      <td>0.234791</td>\n",
       "      <td>0.687280</td>\n",
       "      <td>0.749663</td>\n",
       "      <td>0.717118</td>\n",
       "      <td>0.939842</td>\n",
       "    </tr>\n",
       "    <tr>\n",
       "      <td>2000</td>\n",
       "      <td>0.156900</td>\n",
       "      <td>0.231636</td>\n",
       "      <td>0.684115</td>\n",
       "      <td>0.740752</td>\n",
       "      <td>0.711308</td>\n",
       "      <td>0.939656</td>\n",
       "    </tr>\n",
       "  </tbody>\n",
       "</table><p>"
      ],
      "text/plain": [
       "<IPython.core.display.HTML object>"
      ]
     },
     "metadata": {},
     "output_type": "display_data"
    },
    {
     "ename": "KeyboardInterrupt",
     "evalue": "",
     "output_type": "error",
     "traceback": [
      "\u001b[0;31m---------------------------------------------------------------------------\u001b[0m",
      "\u001b[0;31mKeyboardInterrupt\u001b[0m                         Traceback (most recent call last)",
      "Cell \u001b[0;32mIn[18], line 30\u001b[0m\n\u001b[1;32m      4\u001b[0m training_args \u001b[38;5;241m=\u001b[39m TrainingArguments(\n\u001b[1;32m      5\u001b[0m     output_dir\u001b[38;5;241m=\u001b[39m\u001b[38;5;124m'\u001b[39m\u001b[38;5;124m./r_task\u001b[39m\u001b[38;5;124m'\u001b[39m,\n\u001b[1;32m      6\u001b[0m     \u001b[38;5;66;03m#learning_rate=1e-5,\u001b[39;00m\n\u001b[0;32m   (...)\u001b[0m\n\u001b[1;32m     16\u001b[0m     load_best_model_at_end\u001b[38;5;241m=\u001b[39m\u001b[38;5;28;01mTrue\u001b[39;00m,\n\u001b[1;32m     17\u001b[0m )\n\u001b[1;32m     20\u001b[0m trainer \u001b[38;5;241m=\u001b[39m Trainer(\n\u001b[1;32m     21\u001b[0m     model\u001b[38;5;241m=\u001b[39mmodel,\n\u001b[1;32m     22\u001b[0m     args\u001b[38;5;241m=\u001b[39mtraining_args,\n\u001b[0;32m   (...)\u001b[0m\n\u001b[1;32m     27\u001b[0m     compute_metrics\u001b[38;5;241m=\u001b[39mcompute_metrics,\n\u001b[1;32m     28\u001b[0m )\n\u001b[0;32m---> 30\u001b[0m \u001b[43mtrainer\u001b[49m\u001b[38;5;241;43m.\u001b[39;49m\u001b[43mtrain\u001b[49m\u001b[43m(\u001b[49m\u001b[43m)\u001b[49m\n",
      "File \u001b[0;32m/opt/conda/lib/python3.10/site-packages/transformers/trainer.py:1537\u001b[0m, in \u001b[0;36mTrainer.train\u001b[0;34m(self, resume_from_checkpoint, trial, ignore_keys_for_eval, **kwargs)\u001b[0m\n\u001b[1;32m   1535\u001b[0m         hf_hub_utils\u001b[38;5;241m.\u001b[39menable_progress_bars()\n\u001b[1;32m   1536\u001b[0m \u001b[38;5;28;01melse\u001b[39;00m:\n\u001b[0;32m-> 1537\u001b[0m     \u001b[38;5;28;01mreturn\u001b[39;00m \u001b[43minner_training_loop\u001b[49m\u001b[43m(\u001b[49m\n\u001b[1;32m   1538\u001b[0m \u001b[43m        \u001b[49m\u001b[43margs\u001b[49m\u001b[38;5;241;43m=\u001b[39;49m\u001b[43margs\u001b[49m\u001b[43m,\u001b[49m\n\u001b[1;32m   1539\u001b[0m \u001b[43m        \u001b[49m\u001b[43mresume_from_checkpoint\u001b[49m\u001b[38;5;241;43m=\u001b[39;49m\u001b[43mresume_from_checkpoint\u001b[49m\u001b[43m,\u001b[49m\n\u001b[1;32m   1540\u001b[0m \u001b[43m        \u001b[49m\u001b[43mtrial\u001b[49m\u001b[38;5;241;43m=\u001b[39;49m\u001b[43mtrial\u001b[49m\u001b[43m,\u001b[49m\n\u001b[1;32m   1541\u001b[0m \u001b[43m        \u001b[49m\u001b[43mignore_keys_for_eval\u001b[49m\u001b[38;5;241;43m=\u001b[39;49m\u001b[43mignore_keys_for_eval\u001b[49m\u001b[43m,\u001b[49m\n\u001b[1;32m   1542\u001b[0m \u001b[43m    \u001b[49m\u001b[43m)\u001b[49m\n",
      "File \u001b[0;32m/opt/conda/lib/python3.10/site-packages/transformers/trainer.py:1854\u001b[0m, in \u001b[0;36mTrainer._inner_training_loop\u001b[0;34m(self, batch_size, args, resume_from_checkpoint, trial, ignore_keys_for_eval)\u001b[0m\n\u001b[1;32m   1851\u001b[0m     \u001b[38;5;28mself\u001b[39m\u001b[38;5;241m.\u001b[39mcontrol \u001b[38;5;241m=\u001b[39m \u001b[38;5;28mself\u001b[39m\u001b[38;5;241m.\u001b[39mcallback_handler\u001b[38;5;241m.\u001b[39mon_step_begin(args, \u001b[38;5;28mself\u001b[39m\u001b[38;5;241m.\u001b[39mstate, \u001b[38;5;28mself\u001b[39m\u001b[38;5;241m.\u001b[39mcontrol)\n\u001b[1;32m   1853\u001b[0m \u001b[38;5;28;01mwith\u001b[39;00m \u001b[38;5;28mself\u001b[39m\u001b[38;5;241m.\u001b[39maccelerator\u001b[38;5;241m.\u001b[39maccumulate(model):\n\u001b[0;32m-> 1854\u001b[0m     tr_loss_step \u001b[38;5;241m=\u001b[39m \u001b[38;5;28;43mself\u001b[39;49m\u001b[38;5;241;43m.\u001b[39;49m\u001b[43mtraining_step\u001b[49m\u001b[43m(\u001b[49m\u001b[43mmodel\u001b[49m\u001b[43m,\u001b[49m\u001b[43m \u001b[49m\u001b[43minputs\u001b[49m\u001b[43m)\u001b[49m\n\u001b[1;32m   1856\u001b[0m \u001b[38;5;28;01mif\u001b[39;00m (\n\u001b[1;32m   1857\u001b[0m     args\u001b[38;5;241m.\u001b[39mlogging_nan_inf_filter\n\u001b[1;32m   1858\u001b[0m     \u001b[38;5;129;01mand\u001b[39;00m \u001b[38;5;129;01mnot\u001b[39;00m is_torch_tpu_available()\n\u001b[1;32m   1859\u001b[0m     \u001b[38;5;129;01mand\u001b[39;00m (torch\u001b[38;5;241m.\u001b[39misnan(tr_loss_step) \u001b[38;5;129;01mor\u001b[39;00m torch\u001b[38;5;241m.\u001b[39misinf(tr_loss_step))\n\u001b[1;32m   1860\u001b[0m ):\n\u001b[1;32m   1861\u001b[0m     \u001b[38;5;66;03m# if loss is nan or inf simply add the average of previous logged losses\u001b[39;00m\n\u001b[1;32m   1862\u001b[0m     tr_loss \u001b[38;5;241m+\u001b[39m\u001b[38;5;241m=\u001b[39m tr_loss \u001b[38;5;241m/\u001b[39m (\u001b[38;5;241m1\u001b[39m \u001b[38;5;241m+\u001b[39m \u001b[38;5;28mself\u001b[39m\u001b[38;5;241m.\u001b[39mstate\u001b[38;5;241m.\u001b[39mglobal_step \u001b[38;5;241m-\u001b[39m \u001b[38;5;28mself\u001b[39m\u001b[38;5;241m.\u001b[39m_globalstep_last_logged)\n",
      "File \u001b[0;32m/opt/conda/lib/python3.10/site-packages/transformers/trainer.py:2744\u001b[0m, in \u001b[0;36mTrainer.training_step\u001b[0;34m(self, model, inputs)\u001b[0m\n\u001b[1;32m   2742\u001b[0m         scaled_loss\u001b[38;5;241m.\u001b[39mbackward()\n\u001b[1;32m   2743\u001b[0m \u001b[38;5;28;01melse\u001b[39;00m:\n\u001b[0;32m-> 2744\u001b[0m     \u001b[38;5;28;43mself\u001b[39;49m\u001b[38;5;241;43m.\u001b[39;49m\u001b[43maccelerator\u001b[49m\u001b[38;5;241;43m.\u001b[39;49m\u001b[43mbackward\u001b[49m\u001b[43m(\u001b[49m\u001b[43mloss\u001b[49m\u001b[43m)\u001b[49m\n\u001b[1;32m   2746\u001b[0m \u001b[38;5;28;01mreturn\u001b[39;00m loss\u001b[38;5;241m.\u001b[39mdetach() \u001b[38;5;241m/\u001b[39m \u001b[38;5;28mself\u001b[39m\u001b[38;5;241m.\u001b[39margs\u001b[38;5;241m.\u001b[39mgradient_accumulation_steps\n",
      "File \u001b[0;32m/opt/conda/lib/python3.10/site-packages/accelerate/accelerator.py:1905\u001b[0m, in \u001b[0;36mAccelerator.backward\u001b[0;34m(self, loss, **kwargs)\u001b[0m\n\u001b[1;32m   1903\u001b[0m     \u001b[38;5;28mself\u001b[39m\u001b[38;5;241m.\u001b[39mscaler\u001b[38;5;241m.\u001b[39mscale(loss)\u001b[38;5;241m.\u001b[39mbackward(\u001b[38;5;241m*\u001b[39m\u001b[38;5;241m*\u001b[39mkwargs)\n\u001b[1;32m   1904\u001b[0m \u001b[38;5;28;01melse\u001b[39;00m:\n\u001b[0;32m-> 1905\u001b[0m     \u001b[43mloss\u001b[49m\u001b[38;5;241;43m.\u001b[39;49m\u001b[43mbackward\u001b[49m\u001b[43m(\u001b[49m\u001b[38;5;241;43m*\u001b[39;49m\u001b[38;5;241;43m*\u001b[39;49m\u001b[43mkwargs\u001b[49m\u001b[43m)\u001b[49m\n",
      "File \u001b[0;32m/opt/conda/lib/python3.10/site-packages/torch/_tensor.py:487\u001b[0m, in \u001b[0;36mTensor.backward\u001b[0;34m(self, gradient, retain_graph, create_graph, inputs)\u001b[0m\n\u001b[1;32m    477\u001b[0m \u001b[38;5;28;01mif\u001b[39;00m has_torch_function_unary(\u001b[38;5;28mself\u001b[39m):\n\u001b[1;32m    478\u001b[0m     \u001b[38;5;28;01mreturn\u001b[39;00m handle_torch_function(\n\u001b[1;32m    479\u001b[0m         Tensor\u001b[38;5;241m.\u001b[39mbackward,\n\u001b[1;32m    480\u001b[0m         (\u001b[38;5;28mself\u001b[39m,),\n\u001b[0;32m   (...)\u001b[0m\n\u001b[1;32m    485\u001b[0m         inputs\u001b[38;5;241m=\u001b[39minputs,\n\u001b[1;32m    486\u001b[0m     )\n\u001b[0;32m--> 487\u001b[0m \u001b[43mtorch\u001b[49m\u001b[38;5;241;43m.\u001b[39;49m\u001b[43mautograd\u001b[49m\u001b[38;5;241;43m.\u001b[39;49m\u001b[43mbackward\u001b[49m\u001b[43m(\u001b[49m\n\u001b[1;32m    488\u001b[0m \u001b[43m    \u001b[49m\u001b[38;5;28;43mself\u001b[39;49m\u001b[43m,\u001b[49m\u001b[43m \u001b[49m\u001b[43mgradient\u001b[49m\u001b[43m,\u001b[49m\u001b[43m \u001b[49m\u001b[43mretain_graph\u001b[49m\u001b[43m,\u001b[49m\u001b[43m \u001b[49m\u001b[43mcreate_graph\u001b[49m\u001b[43m,\u001b[49m\u001b[43m \u001b[49m\u001b[43minputs\u001b[49m\u001b[38;5;241;43m=\u001b[39;49m\u001b[43minputs\u001b[49m\n\u001b[1;32m    489\u001b[0m \u001b[43m\u001b[49m\u001b[43m)\u001b[49m\n",
      "File \u001b[0;32m/opt/conda/lib/python3.10/site-packages/torch/autograd/__init__.py:200\u001b[0m, in \u001b[0;36mbackward\u001b[0;34m(tensors, grad_tensors, retain_graph, create_graph, grad_variables, inputs)\u001b[0m\n\u001b[1;32m    195\u001b[0m     retain_graph \u001b[38;5;241m=\u001b[39m create_graph\n\u001b[1;32m    197\u001b[0m \u001b[38;5;66;03m# The reason we repeat same the comment below is that\u001b[39;00m\n\u001b[1;32m    198\u001b[0m \u001b[38;5;66;03m# some Python versions print out the first line of a multi-line function\u001b[39;00m\n\u001b[1;32m    199\u001b[0m \u001b[38;5;66;03m# calls in the traceback and some print out the last line\u001b[39;00m\n\u001b[0;32m--> 200\u001b[0m \u001b[43mVariable\u001b[49m\u001b[38;5;241;43m.\u001b[39;49m\u001b[43m_execution_engine\u001b[49m\u001b[38;5;241;43m.\u001b[39;49m\u001b[43mrun_backward\u001b[49m\u001b[43m(\u001b[49m\u001b[43m  \u001b[49m\u001b[38;5;66;43;03m# Calls into the C++ engine to run the backward pass\u001b[39;49;00m\n\u001b[1;32m    201\u001b[0m \u001b[43m    \u001b[49m\u001b[43mtensors\u001b[49m\u001b[43m,\u001b[49m\u001b[43m \u001b[49m\u001b[43mgrad_tensors_\u001b[49m\u001b[43m,\u001b[49m\u001b[43m \u001b[49m\u001b[43mretain_graph\u001b[49m\u001b[43m,\u001b[49m\u001b[43m \u001b[49m\u001b[43mcreate_graph\u001b[49m\u001b[43m,\u001b[49m\u001b[43m \u001b[49m\u001b[43minputs\u001b[49m\u001b[43m,\u001b[49m\n\u001b[1;32m    202\u001b[0m \u001b[43m    \u001b[49m\u001b[43mallow_unreachable\u001b[49m\u001b[38;5;241;43m=\u001b[39;49m\u001b[38;5;28;43;01mTrue\u001b[39;49;00m\u001b[43m,\u001b[49m\u001b[43m \u001b[49m\u001b[43maccumulate_grad\u001b[49m\u001b[38;5;241;43m=\u001b[39;49m\u001b[38;5;28;43;01mTrue\u001b[39;49;00m\u001b[43m)\u001b[49m\n",
      "\u001b[0;31mKeyboardInterrupt\u001b[0m: "
     ]
    }
   ],
   "source": [
    "from transformers import TrainingArguments, Trainer\n",
    "\n",
    "\n",
    "training_args = TrainingArguments(\n",
    "    output_dir='./r_task',\n",
    "    #learning_rate=1e-5,\n",
    "    per_device_train_batch_size=10,\n",
    "    per_device_eval_batch_size=10,\n",
    "    num_train_epochs=5,\n",
    "    weight_decay=0.01,\n",
    "    evaluation_strategy=\"steps\",\n",
    "    save_strategy=\"steps\",\n",
    "    save_total_limit=2,\n",
    "    save_steps=100,\n",
    "    logging_steps=100,\n",
    "    load_best_model_at_end=True,\n",
    ")\n",
    "\n",
    "\n",
    "trainer = Trainer(\n",
    "    model=model,\n",
    "    args=training_args,\n",
    "    train_dataset=tokenized_dataset[\"train\"],\n",
    "    eval_dataset=tokenized_dataset[\"test\"],\n",
    "    tokenizer=tokenizer,\n",
    "    data_collator=data_collator,\n",
    "    compute_metrics=compute_metrics,\n",
    ")\n",
    "\n",
    "trainer.train()"
   ]
  },
  {
   "cell_type": "code",
   "execution_count": null,
   "id": "c8f8505e-816a-4b36-95db-bd8eee123cbf",
   "metadata": {},
   "outputs": [],
   "source": []
  }
 ],
 "metadata": {
  "kernelspec": {
   "display_name": "Python 3 (ipykernel)",
   "language": "python",
   "name": "python3"
  },
  "language_info": {
   "codemirror_mode": {
    "name": "ipython",
    "version": 3
   },
   "file_extension": ".py",
   "mimetype": "text/x-python",
   "name": "python",
   "nbconvert_exporter": "python",
   "pygments_lexer": "ipython3",
   "version": "3.10.11"
  }
 },
 "nbformat": 4,
 "nbformat_minor": 5
}
