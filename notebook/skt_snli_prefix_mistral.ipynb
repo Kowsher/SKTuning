{
 "cells": [
  {
   "cell_type": "code",
   "execution_count": 2,
   "id": "52654071-04b0-4623-9948-1d249877efcf",
   "metadata": {},
   "outputs": [],
   "source": []
  },
  {
   "cell_type": "code",
   "execution_count": 3,
   "id": "eaae9f51-b77e-4e05-80a0-051b12d6f961",
   "metadata": {},
   "outputs": [],
   "source": [
    "from datasets import load_dataset\n",
    "import pandas as pd\n",
    "snli = load_dataset(\"snli\")"
   ]
  },
  {
   "cell_type": "code",
   "execution_count": 4,
   "id": "fdec7ac6-c154-4d14-bf9b-6842f67678f6",
   "metadata": {},
   "outputs": [],
   "source": [
    "train = pd.DataFrame(snli[\"train\"])\n",
    "test = pd.DataFrame(snli[\"test\"])\n",
    "\n",
    "train = train[train[\"label\"]!=-1].reset_index(drop=True)\n",
    "\n",
    "test = test[test[\"label\"]!=-1].reset_index(drop=True)\n",
    "\n",
    "from datasets import Dataset\n",
    "train_dataset = Dataset.from_pandas(train)\n",
    "test_dataset = Dataset.from_pandas(test) "
   ]
  },
  {
   "cell_type": "code",
   "execution_count": 5,
   "id": "4bd1d1a4-aec3-4a69-a129-68553964a1d1",
   "metadata": {},
   "outputs": [],
   "source": [
    "from transformers import AutoTokenizer\n",
    "model_name=\"mistralai/Mistral-7B-Instruct-v0.2\"\n",
    "tokenizer = AutoTokenizer.from_pretrained(model_name, add_prefix_space=True)\n",
    "tokenizer.pad_token_id = tokenizer.eos_token_id\n",
    "tokenizer.pad_token = tokenizer.eos_token"
   ]
  },
  {
   "cell_type": "code",
   "execution_count": 14,
   "id": "31837a8f-ebe8-4611-86f9-fe3a00510e1f",
   "metadata": {},
   "outputs": [
    {
     "data": {
      "application/vnd.jupyter.widget-view+json": {
       "model_id": "7f2e25cd0ea245c88a64584231a4c0e2",
       "version_major": 2,
       "version_minor": 0
      },
      "text/plain": [
       "Map:   0%|          | 0/549367 [00:00<?, ? examples/s]"
      ]
     },
     "metadata": {},
     "output_type": "display_data"
    },
    {
     "data": {
      "application/vnd.jupyter.widget-view+json": {
       "model_id": "4720d36b34314fa3acd6c7fad6e9f0a1",
       "version_major": 2,
       "version_minor": 0
      },
      "text/plain": [
       "Map:   0%|          | 0/9824 [00:00<?, ? examples/s]"
      ]
     },
     "metadata": {},
     "output_type": "display_data"
    }
   ],
   "source": [
    "\n",
    "from transformers import AutoTokenizer, DataCollatorWithPadding\n",
    "tokenizer = AutoTokenizer.from_pretrained(model_name, add_prefix_space=True)\n",
    "tokenizer.padding_side = 'right'\n",
    "tokenizer.pad_token = tokenizer.eos_token\n",
    "tokenizer.add_eos_token = True\n",
    "# col_to_delete = ['idx']\n",
    "col_to_delete = ['premise','hypothesis']\n",
    "\n",
    "def preprocessing_function(examples):\n",
    "    return tokenizer(examples['premise'], examples['hypothesis'])\n",
    "\n",
    "tokenized_train_dataset = train_dataset.map(preprocessing_function, batched=True, remove_columns=col_to_delete)\n",
    "\n",
    "tokenized_test_dataset = test_dataset.map(preprocessing_function, batched=True, remove_columns=col_to_delete)\n",
    "# llama_tokenized_datasets = llama_tokenized_datasets.rename_column(\"target\", \"label\")\n",
    "tokenized_train_dataset.set_format(\"torch\")\n",
    "tokenized_test_dataset.set_format(\"torch\")\n",
    "\n",
    "# Data collator for padding a batch of examples to the maximum length seen in the batch\n",
    "data_collator = DataCollatorWithPadding(tokenizer=tokenizer)"
   ]
  },
  {
   "cell_type": "code",
   "execution_count": 7,
   "id": "afb88865-8ca4-48be-bfeb-762a624d95f1",
   "metadata": {},
   "outputs": [],
   "source": [
    "from transformers import AutoModelForCausalLM, AutoTokenizer, default_data_collator, get_linear_schedule_with_warmup\n",
    "\n",
    "import torch\n",
    "from datasets import load_dataset\n",
    "import os\n",
    "from torch.utils.data import DataLoader\n",
    "from tqdm import tqdm"
   ]
  },
  {
   "cell_type": "code",
   "execution_count": 8,
   "id": "cf5142e3-0546-4edb-8b8b-c314c4ba3b7a",
   "metadata": {},
   "outputs": [
    {
     "data": {
      "text/plain": [
       "MistralConfig {\n",
       "  \"_name_or_path\": \"mistralai/Mistral-7B-Instruct-v0.2\",\n",
       "  \"architectures\": [\n",
       "    \"MistralForCausalLM\"\n",
       "  ],\n",
       "  \"attention_dropout\": 0.0,\n",
       "  \"bos_token_id\": 1,\n",
       "  \"eos_token_id\": 2,\n",
       "  \"hidden_act\": \"silu\",\n",
       "  \"hidden_size\": 4096,\n",
       "  \"initializer_range\": 0.02,\n",
       "  \"intermediate_size\": 14336,\n",
       "  \"max_position_embeddings\": 32768,\n",
       "  \"model_type\": \"mistral\",\n",
       "  \"num_attention_heads\": 32,\n",
       "  \"num_hidden_layers\": 32,\n",
       "  \"num_key_value_heads\": 8,\n",
       "  \"rms_norm_eps\": 1e-05,\n",
       "  \"rope_theta\": 1000000.0,\n",
       "  \"sliding_window\": null,\n",
       "  \"tie_word_embeddings\": false,\n",
       "  \"torch_dtype\": \"bfloat16\",\n",
       "  \"transformers_version\": \"4.36.2\",\n",
       "  \"use_cache\": true,\n",
       "  \"vocab_size\": 32000\n",
       "}"
      ]
     },
     "execution_count": 8,
     "metadata": {},
     "output_type": "execute_result"
    }
   ],
   "source": [
    "from transformers import AutoConfig\n",
    "\n",
    "config = AutoConfig.from_pretrained(model_name)\n",
    "config"
   ]
  },
  {
   "cell_type": "code",
   "execution_count": 9,
   "id": "6b6cdd8d-9434-40fb-b4dc-21c3759ffd26",
   "metadata": {},
   "outputs": [],
   "source": [
    "config._name_or_path=model_name\n",
    "config.hidden_size=4096\n",
    "config.num_hidden_layers=32\n",
    "config.n_head=32\n",
    "config.num_labels=3\n",
    "config.pad_token_id=tokenizer.pad_token_id\n",
    "config.hidden_dropout = 0.1\n",
    "config.transform=False\n",
    "config.text='Recognize the textual entailment from the text:'"
   ]
  },
  {
   "cell_type": "code",
   "execution_count": 11,
   "id": "0f8a22cb-3941-4080-aa1e-f7b2983516d9",
   "metadata": {},
   "outputs": [
    {
     "data": {
      "application/vnd.jupyter.widget-view+json": {
       "model_id": "0dc0f9c2a51348c5b6fbf56a9f8071c6",
       "version_major": 2,
       "version_minor": 0
      },
      "text/plain": [
       "Loading checkpoint shards:   0%|          | 0/3 [00:00<?, ?it/s]"
      ]
     },
     "metadata": {},
     "output_type": "display_data"
    },
    {
     "name": "stdout",
     "output_type": "stream",
     "text": [
      "Prefix sequence length:  14\n"
     ]
    },
    {
     "data": {
      "application/vnd.jupyter.widget-view+json": {
       "model_id": "234ae5fb37904a1f9b464389200f183b",
       "version_major": 2,
       "version_minor": 0
      },
      "text/plain": [
       "Loading checkpoint shards:   0%|          | 0/3 [00:00<?, ?it/s]"
      ]
     },
     "metadata": {},
     "output_type": "display_data"
    },
    {
     "name": "stderr",
     "output_type": "stream",
     "text": [
      "Some weights of PrefixForSequenceClassification were not initialized from the model checkpoint at mistralai/Mistral-7B-Instruct-v0.2 and are newly initialized: ['transformer.layers.15.mlp.down_proj.weight', 'prompt_encoder.transfromer.layers.9.mlp.gate_proj.weight', 'prompt_encoder.transfromer.layers.1.input_layernorm.weight', 'transformer.layers.30.mlp.gate_proj.weight', 'transformer.layers.29.input_layernorm.weight', 'prompt_encoder.transfromer.layers.18.input_layernorm.weight', 'prompt_encoder.transfromer.layers.9.self_attn.q_proj.weight', 'transformer.layers.21.self_attn.k_proj.weight', 'prompt_encoder.transfromer.layers.28.self_attn.k_proj.weight', 'prompt_encoder.transfromer.layers.14.post_attention_layernorm.weight', 'prompt_encoder.transfromer.layers.3.mlp.up_proj.weight', 'prompt_encoder.transfromer.layers.8.self_attn.o_proj.weight', 'prompt_encoder.transfromer.layers.21.mlp.down_proj.weight', 'prompt_encoder.transfromer.layers.23.mlp.up_proj.weight', 'prompt_encoder.transfromer.layers.17.mlp.up_proj.weight', 'prompt_encoder.transfromer.layers.9.self_attn.o_proj.weight', 'transformer.layers.28.post_attention_layernorm.weight', 'prompt_encoder.transfromer.layers.31.self_attn.o_proj.weight', 'prompt_encoder.transfromer.layers.17.mlp.down_proj.weight', 'prompt_encoder.transfromer.layers.2.mlp.down_proj.weight', 'prompt_encoder.transfromer.layers.3.self_attn.q_proj.weight', 'prompt_encoder.transfromer.layers.4.mlp.down_proj.weight', 'prompt_encoder.transfromer.layers.7.post_attention_layernorm.weight', 'transformer.layers.3.input_layernorm.weight', 'transformer.layers.4.input_layernorm.weight', 'prompt_encoder.transfromer.layers.11.mlp.gate_proj.weight', 'prompt_encoder.transfromer.layers.23.self_attn.q_proj.weight', 'prompt_encoder.transfromer.layers.19.self_attn.v_proj.weight', 'prompt_encoder.transfromer.layers.0.self_attn.o_proj.weight', 'transformer.layers.5.mlp.down_proj.weight', 'prompt_encoder.transfromer.layers.24.post_attention_layernorm.weight', 'transformer.layers.19.self_attn.v_proj.weight', 'prompt_encoder.transfromer.layers.15.self_attn.q_proj.weight', 'transformer.layers.30.mlp.down_proj.weight', 'transformer.layers.12.post_attention_layernorm.weight', 'prompt_encoder.transfromer.layers.13.post_attention_layernorm.weight', 'transformer.layers.1.input_layernorm.weight', 'prompt_encoder.transfromer.layers.14.self_attn.k_proj.weight', 'prompt_encoder.transfromer.layers.1.mlp.up_proj.weight', 'transformer.layers.20.self_attn.v_proj.weight', 'transformer.layers.3.self_attn.q_proj.weight', 'transformer.layers.25.self_attn.o_proj.weight', 'prompt_encoder.transfromer.layers.16.self_attn.q_proj.weight', 'transformer.layers.29.mlp.gate_proj.weight', 'prompt_encoder.transfromer.layers.4.self_attn.q_proj.weight', 'transformer.layers.10.input_layernorm.weight', 'prompt_encoder.transfromer.layers.11.mlp.down_proj.weight', 'prompt_encoder.transfromer.layers.22.post_attention_layernorm.weight', 'prompt_encoder.transfromer.layers.5.post_attention_layernorm.weight', 'transformer.layers.28.self_attn.o_proj.weight', 'transformer.layers.8.mlp.up_proj.weight', 'prompt_encoder.transfromer.layers.28.mlp.up_proj.weight', 'prompt_encoder.transfromer.layers.31.mlp.down_proj.weight', 'transformer.layers.17.post_attention_layernorm.weight', 'prompt_encoder.transfromer.layers.6.mlp.down_proj.weight', 'transformer.layers.13.self_attn.q_proj.weight', 'transformer.layers.21.mlp.gate_proj.weight', 'prompt_encoder.transfromer.layers.22.input_layernorm.weight', 'transformer.layers.6.self_attn.v_proj.weight', 'prompt_encoder.transfromer.layers.28.post_attention_layernorm.weight', 'prompt_encoder.transfromer.layers.21.mlp.up_proj.weight', 'transformer.layers.31.mlp.gate_proj.weight', 'prompt_encoder.transfromer.layers.21.self_attn.o_proj.weight', 'transformer.layers.20.self_attn.q_proj.weight', 'transformer.layers.6.input_layernorm.weight', 'prompt_encoder.transfromer.layers.25.mlp.gate_proj.weight', 'prompt_encoder.transfromer.layers.29.self_attn.k_proj.weight', 'prompt_encoder.transfromer.layers.4.self_attn.o_proj.weight', 'transformer.layers.26.post_attention_layernorm.weight', 'transformer.layers.18.mlp.up_proj.weight', 'transformer.layers.23.post_attention_layernorm.weight', 'transformer.layers.12.self_attn.o_proj.weight', 'transformer.layers.12.mlp.gate_proj.weight', 'transformer.layers.28.mlp.down_proj.weight', 'prompt_encoder.transfromer.layers.9.mlp.down_proj.weight', 'transformer.layers.27.post_attention_layernorm.weight', 'prompt_encoder.transfromer.layers.12.mlp.gate_proj.weight', 'prompt_encoder.transfromer.layers.1.self_attn.v_proj.weight', 'prompt_encoder.transfromer.layers.12.self_attn.q_proj.weight', 'prompt_encoder.transfromer.layers.8.mlp.up_proj.weight', 'prompt_encoder.transfromer.layers.2.self_attn.o_proj.weight', 'prompt_encoder.transfromer.layers.14.self_attn.v_proj.weight', 'transformer.layers.20.input_layernorm.weight', 'prompt_encoder.transfromer.layers.30.mlp.up_proj.weight', 'prompt_encoder.transfromer.layers.11.self_attn.o_proj.weight', 'prompt_encoder.transfromer.layers.13.mlp.gate_proj.weight', 'prompt_encoder.transfromer.layers.25.self_attn.k_proj.weight', 'transformer.layers.13.input_layernorm.weight', 'transformer.layers.1.mlp.gate_proj.weight', 'transformer.layers.7.self_attn.o_proj.weight', 'transformer.layers.7.mlp.gate_proj.weight', 'transformer.layers.16.input_layernorm.weight', 'transformer.layers.1.self_attn.v_proj.weight', 'transformer.layers.17.input_layernorm.weight', 'prompt_encoder.transfromer.layers.16.mlp.gate_proj.weight', 'transformer.layers.13.self_attn.v_proj.weight', 'transformer.layers.21.mlp.up_proj.weight', 'prompt_encoder.transfromer.layers.2.self_attn.q_proj.weight', 'transformer.layers.18.post_attention_layernorm.weight', 'prompt_encoder.transfromer.layers.18.self_attn.q_proj.weight', 'prompt_encoder.transfromer.layers.28.input_layernorm.weight', 'transformer.layers.1.self_attn.o_proj.weight', 'transformer.layers.4.mlp.up_proj.weight', 'transformer.layers.17.self_attn.q_proj.weight', 'transformer.layers.4.self_attn.q_proj.weight', 'transformer.layers.16.self_attn.v_proj.weight', 'transformer.layers.26.input_layernorm.weight', 'prompt_encoder.transfromer.layers.18.self_attn.o_proj.weight', 'transformer.layers.18.input_layernorm.weight', 'transformer.layers.4.mlp.gate_proj.weight', 'prompt_encoder.transfromer.layers.20.self_attn.q_proj.weight', 'prompt_encoder.transfromer.layers.23.mlp.down_proj.weight', 'transformer.layers.16.self_attn.k_proj.weight', 'prompt_encoder.transfromer.layers.7.mlp.gate_proj.weight', 'transformer.layers.31.input_layernorm.weight', 'prompt_encoder.transfromer.layers.15.post_attention_layernorm.weight', 'prompt_encoder.transfromer.layers.22.mlp.down_proj.weight', 'transformer.layers.5.input_layernorm.weight', 'score.bias', 'prompt_encoder.transfromer.layers.3.mlp.down_proj.weight', 'transformer.layers.22.self_attn.v_proj.weight', 'prompt_encoder.transfromer.embed_tokens.weight', 'prompt_encoder.transfromer.layers.10.mlp.down_proj.weight', 'prompt_encoder.transfromer.layers.15.self_attn.o_proj.weight', 'transformer.layers.19.input_layernorm.weight', 'prompt_encoder.transfromer.layers.26.post_attention_layernorm.weight', 'prompt_encoder.transfromer.layers.18.mlp.gate_proj.weight', 'transformer.layers.10.self_attn.k_proj.weight', 'prompt_encoder.transfromer.layers.20.input_layernorm.weight', 'prompt_encoder.transfromer.layers.11.self_attn.q_proj.weight', 'transformer.layers.9.post_attention_layernorm.weight', 'transformer.layers.19.post_attention_layernorm.weight', 'prompt_encoder.transfromer.layers.20.post_attention_layernorm.weight', 'transformer.layers.1.mlp.down_proj.weight', 'transformer.layers.12.self_attn.q_proj.weight', 'transformer.layers.26.mlp.gate_proj.weight', 'prompt_encoder.transfromer.layers.1.self_attn.o_proj.weight', 'transformer.layers.16.mlp.up_proj.weight', 'prompt_encoder.transfromer.layers.25.self_attn.v_proj.weight', 'prompt_encoder.transfromer.layers.15.input_layernorm.weight', 'transformer.layers.14.mlp.down_proj.weight', 'prompt_encoder.transfromer.layers.23.self_attn.k_proj.weight', 'prompt_encoder.transfromer.layers.9.mlp.up_proj.weight', 'transformer.layers.25.input_layernorm.weight', 'prompt_encoder.transfromer.layers.19.self_attn.o_proj.weight', 'transformer.layers.13.post_attention_layernorm.weight', 'prompt_encoder.transfromer.layers.25.mlp.down_proj.weight', 'transformer.layers.11.input_layernorm.weight', 'prompt_encoder.transfromer.layers.0.self_attn.k_proj.weight', 'transformer.layers.21.post_attention_layernorm.weight', 'transformer.layers.0.mlp.gate_proj.weight', 'transformer.layers.2.mlp.up_proj.weight', 'transformer.layers.28.self_attn.k_proj.weight', 'prompt_encoder.transfromer.layers.26.self_attn.k_proj.weight', 'transformer.layers.17.self_attn.v_proj.weight', 'prompt_encoder.transfromer.layers.14.mlp.up_proj.weight', 'prompt_encoder.transfromer.layers.21.self_attn.k_proj.weight', 'prompt_encoder.transfromer.layers.29.self_attn.o_proj.weight', 'transformer.layers.11.self_attn.v_proj.weight', 'prompt_encoder.transfromer.layers.8.mlp.gate_proj.weight', 'prompt_encoder.transfromer.layers.25.self_attn.q_proj.weight', 'prompt_encoder.transfromer.layers.12.mlp.up_proj.weight', 'transformer.layers.9.mlp.up_proj.weight', 'prompt_encoder.transfromer.layers.21.self_attn.v_proj.weight', 'prompt_encoder.transfromer.layers.10.post_attention_layernorm.weight', 'prompt_encoder.transfromer.layers.19.self_attn.q_proj.weight', 'transformer.layers.26.self_attn.k_proj.weight', 'prompt_encoder.transfromer.layers.28.mlp.down_proj.weight', 'prompt_encoder.transfromer.layers.6.self_attn.q_proj.weight', 'prompt_encoder.transfromer.layers.18.post_attention_layernorm.weight', 'transformer.layers.12.self_attn.k_proj.weight', 'prompt_encoder.transfromer.layers.29.self_attn.q_proj.weight', 'prompt_encoder.transfromer.layers.20.mlp.gate_proj.weight', 'transformer.layers.7.input_layernorm.weight', 'transformer.layers.26.mlp.down_proj.weight', 'transformer.layers.18.self_attn.k_proj.weight', 'prompt_encoder.transfromer.layers.15.mlp.down_proj.weight', 'prompt_encoder.transfromer.layers.28.self_attn.q_proj.weight', 'transformer.layers.25.mlp.down_proj.weight', 'transformer.layers.27.mlp.up_proj.weight', 'prompt_encoder.transfromer.layers.27.self_attn.k_proj.weight', 'prompt_encoder.transfromer.layers.4.self_attn.k_proj.weight', 'transformer.layers.8.mlp.down_proj.weight', 'prompt_encoder.transfromer.layers.8.input_layernorm.weight', 'transformer.layers.0.self_attn.q_proj.weight', 'transformer.layers.11.self_attn.o_proj.weight', 'prompt_encoder.transfromer.layers.16.mlp.up_proj.weight', 'prompt_encoder.transfromer.layers.26.mlp.down_proj.weight', 'prompt_encoder.transfromer.layers.13.self_attn.k_proj.weight', 'transformer.layers.24.input_layernorm.weight', 'transformer.layers.5.post_attention_layernorm.weight', 'transformer.layers.22.mlp.gate_proj.weight', 'prompt_encoder.transfromer.layers.24.self_attn.o_proj.weight', 'transformer.layers.2.self_attn.k_proj.weight', 'transformer.layers.2.post_attention_layernorm.weight', 'prompt_encoder.transfromer.layers.6.self_attn.k_proj.weight', 'prompt_encoder.transfromer.layers.16.post_attention_layernorm.weight', 'transformer.layers.25.self_attn.k_proj.weight', 'prompt_encoder.transfromer.layers.3.self_attn.v_proj.weight', 'transformer.layers.30.input_layernorm.weight', 'transformer.layers.10.self_attn.o_proj.weight', 'transformer.layers.7.mlp.down_proj.weight', 'transformer.layers.15.self_attn.k_proj.weight', 'transformer.layers.0.mlp.up_proj.weight', 'prompt_encoder.transfromer.layers.10.self_attn.q_proj.weight', 'transformer.layers.20.self_attn.o_proj.weight', 'prompt_encoder.transfromer.layers.8.self_attn.v_proj.weight', 'prompt_encoder.transfromer.layers.20.mlp.down_proj.weight', 'transformer.layers.13.mlp.gate_proj.weight', 'transformer.layers.28.self_attn.q_proj.weight', 'transformer.layers.1.self_attn.k_proj.weight', 'prompt_encoder.transfromer.layers.30.mlp.gate_proj.weight', 'prompt_encoder.transfromer.layers.7.input_layernorm.weight', 'transformer.layers.6.self_attn.k_proj.weight', 'transformer.layers.25.mlp.up_proj.weight', 'prompt_encoder.transfromer.layers.6.self_attn.v_proj.weight', 'transformer.layers.17.mlp.down_proj.weight', 'transformer.layers.5.self_attn.q_proj.weight', 'transformer.layers.12.self_attn.v_proj.weight', 'prompt_encoder.transfromer.layers.19.input_layernorm.weight', 'transformer.layers.17.self_attn.k_proj.weight', 'prompt_encoder.transfromer.layers.22.self_attn.k_proj.weight', 'transformer.layers.14.input_layernorm.weight', 'prompt_encoder.transfromer.layers.16.self_attn.o_proj.weight', 'prompt_encoder.transfromer.layers.4.post_attention_layernorm.weight', 'transformer.layers.27.self_attn.o_proj.weight', 'prompt_encoder.transfromer.layers.14.mlp.down_proj.weight', 'transformer.layers.15.post_attention_layernorm.weight', 'transformer.layers.30.self_attn.v_proj.weight', 'transformer.layers.29.mlp.down_proj.weight', 'transformer.layers.31.self_attn.q_proj.weight', 'transformer.layers.15.input_layernorm.weight', 'transformer.layers.25.post_attention_layernorm.weight', 'transformer.layers.13.self_attn.k_proj.weight', 'transformer.layers.13.mlp.up_proj.weight', 'prompt_encoder.transfromer.layers.24.mlp.gate_proj.weight', 'prompt_encoder.transfromer.layers.0.mlp.down_proj.weight', 'prompt_encoder.transfromer.layers.25.self_attn.o_proj.weight', 'transformer.layers.26.self_attn.q_proj.weight', 'transformer.layers.24.mlp.up_proj.weight', 'transformer.layers.27.input_layernorm.weight', 'prompt_encoder.transfromer.layers.13.mlp.up_proj.weight', 'prompt_encoder.transfromer.layers.9.self_attn.k_proj.weight', 'transformer.layers.17.mlp.gate_proj.weight', 'prompt_encoder.transfromer.layers.29.self_attn.v_proj.weight', 'prompt_encoder.transfromer.layers.19.self_attn.k_proj.weight', 'prompt_encoder.transfromer.layers.2.mlp.gate_proj.weight', 'prompt_encoder.transfromer.layers.6.self_attn.o_proj.weight', 'transformer.layers.31.post_attention_layernorm.weight', 'transformer.layers.5.self_attn.v_proj.weight', 'prompt_encoder.transfromer.layers.24.mlp.up_proj.weight', 'prompt_encoder.transfromer.layers.24.mlp.down_proj.weight', 'transformer.layers.15.self_attn.v_proj.weight', 'transformer.layers.24.self_attn.o_proj.weight', 'prompt_encoder.transfromer.layers.2.post_attention_layernorm.weight', 'transformer.layers.3.mlp.gate_proj.weight', 'transformer.layers.4.self_attn.k_proj.weight', 'transformer.layers.30.mlp.up_proj.weight', 'transformer.layers.6.post_attention_layernorm.weight', 'prompt_encoder.transfromer.layers.23.input_layernorm.weight', 'transformer.embed_tokens.weight', 'transformer.layers.26.self_attn.v_proj.weight', 'prompt_encoder.transfromer.layers.26.input_layernorm.weight', 'prompt_encoder.transfromer.layers.4.mlp.gate_proj.weight', 'prompt_encoder.transfromer.layers.6.mlp.up_proj.weight', 'prompt_encoder.transfromer.layers.4.input_layernorm.weight', 'transformer.layers.16.self_attn.q_proj.weight', 'prompt_encoder.transfromer.layers.3.self_attn.k_proj.weight', 'transformer.layers.24.mlp.down_proj.weight', 'transformer.layers.31.self_attn.v_proj.weight', 'transformer.layers.0.mlp.down_proj.weight', 'transformer.layers.9.self_attn.q_proj.weight', 'prompt_encoder.transfromer.layers.12.post_attention_layernorm.weight', 'transformer.layers.1.post_attention_layernorm.weight', 'transformer.layers.29.self_attn.v_proj.weight', 'prompt_encoder.transfromer.layers.22.mlp.up_proj.weight', 'transformer.layers.5.self_attn.o_proj.weight', 'transformer.layers.27.self_attn.k_proj.weight', 'prompt_encoder.transfromer.layers.7.self_attn.k_proj.weight', 'transformer.layers.27.self_attn.v_proj.weight', 'transformer.layers.21.mlp.down_proj.weight', 'prompt_encoder.transfromer.layers.7.self_attn.q_proj.weight', 'transformer.layers.0.post_attention_layernorm.weight', 'prompt_encoder.transfromer.layers.27.mlp.down_proj.weight', 'transformer.layers.2.input_layernorm.weight', 'transformer.layers.21.self_attn.o_proj.weight', 'prompt_encoder.transfromer.layers.22.self_attn.q_proj.weight', 'transformer.layers.29.self_attn.k_proj.weight', 'prompt_encoder.transfromer.layers.25.mlp.up_proj.weight', 'transformer.layers.10.self_attn.q_proj.weight', 'prompt_encoder.transfromer.layers.16.mlp.down_proj.weight', 'prompt_encoder.transfromer.layers.9.input_layernorm.weight', 'prompt_encoder.transfromer.layers.24.self_attn.q_proj.weight', 'transformer.layers.5.self_attn.k_proj.weight', 'transformer.layers.2.mlp.gate_proj.weight', 'transformer.layers.3.self_attn.v_proj.weight', 'prompt_encoder.transfromer.layers.23.self_attn.o_proj.weight', 'prompt_encoder.transfromer.layers.31.self_attn.q_proj.weight', 'transformer.layers.23.self_attn.q_proj.weight', 'transformer.layers.25.mlp.gate_proj.weight', 'prompt_encoder.transfromer.layers.23.self_attn.v_proj.weight', 'transformer.layers.28.mlp.up_proj.weight', 'prompt_encoder.transfromer.layers.24.self_attn.v_proj.weight', 'prompt_encoder.transfromer.layers.28.mlp.gate_proj.weight', 'prompt_encoder.transfromer.layers.29.input_layernorm.weight', 'prompt_encoder.transfromer.layers.17.input_layernorm.weight', 'prompt_encoder.transfromer.layers.31.mlp.gate_proj.weight', 'transformer.layers.15.self_attn.o_proj.weight', 'prompt_encoder.transfromer.layers.2.mlp.up_proj.weight', 'prompt_encoder.transfromer.layers.30.self_attn.k_proj.weight', 'transformer.layers.14.mlp.gate_proj.weight', 'transformer.layers.2.mlp.down_proj.weight', 'prompt_encoder.transfromer.layers.6.input_layernorm.weight', 'prompt_encoder.transfromer.layers.10.self_attn.v_proj.weight', 'prompt_encoder.transfromer.layers.11.self_attn.v_proj.weight', 'prompt_encoder.transfromer.layers.7.self_attn.v_proj.weight', 'transformer.layers.22.self_attn.o_proj.weight', 'prompt_encoder.transfromer.layers.1.post_attention_layernorm.weight', 'transformer.layers.8.mlp.gate_proj.weight', 'prompt_encoder.transfromer.layers.17.self_attn.o_proj.weight', 'prompt_encoder.transfromer.layers.22.self_attn.o_proj.weight', 'transformer.layers.11.self_attn.k_proj.weight', 'prompt_encoder.transfromer.layers.12.self_attn.k_proj.weight', 'prompt_encoder.transfromer.layers.30.input_layernorm.weight', 'transformer.layers.22.self_attn.q_proj.weight', 'prompt_encoder.transfromer.layers.8.self_attn.k_proj.weight', 'prompt_encoder.transfromer.layers.17.self_attn.v_proj.weight', 'transformer.layers.18.mlp.gate_proj.weight', 'prompt_encoder.transfromer.layers.12.input_layernorm.weight', 'prompt_encoder.transfromer.layers.9.self_attn.v_proj.weight', 'transformer.layers.3.mlp.down_proj.weight', 'transformer.layers.7.self_attn.v_proj.weight', 'transformer.layers.10.post_attention_layernorm.weight', 'prompt_encoder.transfromer.layers.0.mlp.gate_proj.weight', 'prompt_encoder.transfromer.layers.16.self_attn.v_proj.weight', 'prompt_encoder.transfromer.layers.11.mlp.up_proj.weight', 'transformer.layers.14.self_attn.q_proj.weight', 'transformer.layers.24.self_attn.v_proj.weight', 'transformer.layers.4.post_attention_layernorm.weight', 'transformer.layers.29.post_attention_layernorm.weight', 'prompt_encoder.transfromer.layers.22.mlp.gate_proj.weight', 'prompt_encoder.transfromer.layers.15.mlp.gate_proj.weight', 'prompt_encoder.transfromer.layers.29.post_attention_layernorm.weight', 'prompt_encoder.transfromer.layers.30.self_attn.q_proj.weight', 'transformer.layers.21.self_attn.v_proj.weight', 'prompt_encoder.transfromer.layers.13.mlp.down_proj.weight', 'transformer.layers.1.self_attn.q_proj.weight', 'prompt_encoder.transfromer.layers.0.self_attn.v_proj.weight', 'transformer.layers.23.self_attn.k_proj.weight', 'prompt_encoder.transfromer.layers.26.mlp.up_proj.weight', 'transformer.layers.29.self_attn.o_proj.weight', 'prompt_encoder.transfromer.layers.0.self_attn.q_proj.weight', 'transformer.layers.28.mlp.gate_proj.weight', 'transformer.layers.8.self_attn.q_proj.weight', 'transformer.layers.9.mlp.down_proj.weight', 'transformer.layers.21.input_layernorm.weight', 'prompt_encoder.transfromer.layers.31.self_attn.k_proj.weight', 'transformer.layers.10.mlp.down_proj.weight', 'prompt_encoder.transfromer.layers.27.post_attention_layernorm.weight', 'prompt_encoder.transfromer.layers.0.post_attention_layernorm.weight', 'transformer.layers.3.self_attn.o_proj.weight', 'transformer.layers.24.self_attn.k_proj.weight', 'prompt_encoder.transfromer.layers.19.post_attention_layernorm.weight', 'prompt_encoder.transfromer.layers.7.mlp.down_proj.weight', 'transformer.layers.11.self_attn.q_proj.weight', 'transformer.layers.23.self_attn.v_proj.weight', 'prompt_encoder.transfromer.layers.28.self_attn.o_proj.weight', 'transformer.layers.12.input_layernorm.weight', 'transformer.layers.19.mlp.down_proj.weight', 'transformer.layers.10.self_attn.v_proj.weight', 'transformer.layers.13.mlp.down_proj.weight', 'transformer.layers.18.self_attn.v_proj.weight', 'transformer.layers.11.mlp.down_proj.weight', 'prompt_encoder.transfromer.layers.5.mlp.gate_proj.weight', 'transformer.layers.15.mlp.up_proj.weight', 'prompt_encoder.transfromer.layers.31.post_attention_layernorm.weight', 'transformer.layers.17.mlp.up_proj.weight', 'prompt_encoder.transfromer.layers.1.mlp.gate_proj.weight', 'transformer.layers.12.mlp.up_proj.weight', 'transformer.layers.8.self_attn.o_proj.weight', 'transformer.layers.30.self_attn.k_proj.weight', 'transformer.layers.19.mlp.gate_proj.weight', 'prompt_encoder.transfromer.layers.12.self_attn.o_proj.weight', 'prompt_encoder.transfromer.layers.13.self_attn.v_proj.weight', 'transformer.layers.6.mlp.down_proj.weight', 'transformer.layers.23.mlp.gate_proj.weight', 'prompt_encoder.transfromer.layers.29.mlp.gate_proj.weight', 'prompt_encoder.transfromer.layers.3.self_attn.o_proj.weight', 'transformer.layers.15.self_attn.q_proj.weight', 'prompt_encoder.transfromer.layers.30.self_attn.v_proj.weight', 'prompt_encoder.transfromer.layers.27.self_attn.o_proj.weight', 'prompt_encoder.transfromer.layers.4.mlp.up_proj.weight', 'prompt_encoder.transfromer.layers.18.self_attn.v_proj.weight', 'prompt_encoder.transfromer.layers.30.self_attn.o_proj.weight', 'transformer.layers.0.input_layernorm.weight', 'prompt_encoder.transfromer.layers.20.self_attn.v_proj.weight', 'prompt_encoder.transfromer.layers.12.mlp.down_proj.weight', 'transformer.layers.18.mlp.down_proj.weight', 'transformer.layers.22.self_attn.k_proj.weight', 'prompt_encoder.transfromer.layers.31.mlp.up_proj.weight', 'prompt_encoder.transfromer.layers.3.post_attention_layernorm.weight', 'transformer.layers.9.self_attn.k_proj.weight', 'prompt_encoder.transfromer.layers.21.self_attn.q_proj.weight', 'prompt_encoder.transfromer.layers.24.self_attn.k_proj.weight', 'transformer.layers.14.self_attn.k_proj.weight', 'prompt_encoder.transfromer.layers.10.input_layernorm.weight', 'transformer.layers.14.self_attn.o_proj.weight', 'transformer.layers.13.self_attn.o_proj.weight', 'score.weight', 'prompt_encoder.transfromer.layers.3.mlp.gate_proj.weight', 'prompt_encoder.transfromer.layers.22.self_attn.v_proj.weight', 'prompt_encoder.transfromer.layers.8.mlp.down_proj.weight', 'prompt_encoder.transfromer.layers.28.self_attn.v_proj.weight', 'prompt_encoder.transfromer.layers.25.post_attention_layernorm.weight', 'prompt_encoder.transfromer.layers.7.mlp.up_proj.weight', 'transformer.layers.15.mlp.gate_proj.weight', 'prompt_encoder.transfromer.layers.5.self_attn.o_proj.weight', 'prompt_encoder.transfromer.layers.8.post_attention_layernorm.weight', 'transformer.layers.16.mlp.down_proj.weight', 'transformer.layers.6.self_attn.q_proj.weight', 'transformer.layers.10.mlp.gate_proj.weight', 'transformer.layers.18.self_attn.o_proj.weight', 'prompt_encoder.transfromer.layers.5.mlp.down_proj.weight', 'prompt_encoder.transfromer.layers.21.input_layernorm.weight', 'prompt_encoder.transfromer.layers.26.self_attn.v_proj.weight', 'prompt_encoder.transfromer.layers.4.self_attn.v_proj.weight', 'transformer.layers.20.post_attention_layernorm.weight', 'prompt_encoder.transfromer.layers.6.post_attention_layernorm.weight', 'prompt_encoder.transfromer.layers.24.input_layernorm.weight', 'transformer.layers.21.self_attn.q_proj.weight', 'transformer.layers.0.self_attn.v_proj.weight', 'transformer.layers.14.mlp.up_proj.weight', 'transformer.layers.0.self_attn.k_proj.weight', 'transformer.layers.16.post_attention_layernorm.weight', 'transformer.layers.20.self_attn.k_proj.weight', 'transformer.layers.11.mlp.up_proj.weight', 'prompt_encoder.transfromer.layers.27.self_attn.v_proj.weight', 'transformer.layers.29.mlp.up_proj.weight', 'prompt_encoder.transfromer.layers.27.input_layernorm.weight', 'prompt_encoder.transfromer.layers.20.self_attn.o_proj.weight', 'prompt_encoder.transfromer.layers.29.mlp.down_proj.weight', 'transformer.layers.6.mlp.up_proj.weight', 'prompt_encoder.transfromer.layers.13.self_attn.q_proj.weight', 'prompt_encoder.transfromer.layers.1.mlp.down_proj.weight', 'prompt_encoder.transfromer.layers.19.mlp.up_proj.weight', 'transformer.layers.23.input_layernorm.weight', 'prompt_encoder.transfromer.layers.31.input_layernorm.weight', 'transformer.layers.20.mlp.gate_proj.weight', 'transformer.layers.9.self_attn.o_proj.weight', 'transformer.layers.8.self_attn.v_proj.weight', 'transformer.layers.28.self_attn.v_proj.weight', 'transformer.layers.31.self_attn.o_proj.weight', 'prompt_encoder.transfromer.layers.17.mlp.gate_proj.weight', 'transformer.norm.weight', 'transformer.layers.9.input_layernorm.weight', 'prompt_encoder.transfromer.layers.0.input_layernorm.weight', 'prompt_encoder.transfromer.layers.21.post_attention_layernorm.weight', 'transformer.layers.31.mlp.up_proj.weight', 'transformer.layers.7.mlp.up_proj.weight', 'transformer.layers.31.mlp.down_proj.weight', 'transformer.layers.16.self_attn.o_proj.weight', 'transformer.layers.27.mlp.gate_proj.weight', 'transformer.layers.29.self_attn.q_proj.weight', 'transformer.layers.3.mlp.up_proj.weight', 'prompt_encoder.transfromer.layers.2.self_attn.k_proj.weight', 'transformer.layers.24.post_attention_layernorm.weight', 'prompt_encoder.transfromer.layers.19.mlp.down_proj.weight', 'prompt_encoder.transfromer.layers.1.self_attn.k_proj.weight', 'prompt_encoder.transfromer.layers.11.self_attn.k_proj.weight', 'prompt_encoder.transfromer.norm.weight', 'prompt_encoder.transfromer.layers.18.mlp.down_proj.weight', 'prompt_encoder.transfromer.layers.14.input_layernorm.weight', 'transformer.layers.9.self_attn.v_proj.weight', 'prompt_encoder.transfromer.layers.2.input_layernorm.weight', 'prompt_encoder.transfromer.layers.10.self_attn.o_proj.weight', 'prompt_encoder.transfromer.layers.17.self_attn.q_proj.weight', 'transformer.layers.27.mlp.down_proj.weight', 'prompt_encoder.transfromer.layers.26.self_attn.q_proj.weight', 'prompt_encoder.transfromer.layers.5.self_attn.q_proj.weight', 'prompt_encoder.transfromer.layers.5.self_attn.k_proj.weight', 'transformer.layers.19.self_attn.o_proj.weight', 'prompt_encoder.transfromer.layers.29.mlp.up_proj.weight', 'transformer.layers.12.mlp.down_proj.weight', 'transformer.layers.25.self_attn.q_proj.weight', 'prompt_encoder.transfromer.layers.6.mlp.gate_proj.weight', 'prompt_encoder.transfromer.layers.14.mlp.gate_proj.weight', 'transformer.layers.24.self_attn.q_proj.weight', 'transformer.layers.7.post_attention_layernorm.weight', 'transformer.layers.31.self_attn.k_proj.weight', 'transformer.layers.23.self_attn.o_proj.weight', 'transformer.layers.25.self_attn.v_proj.weight', 'transformer.layers.23.mlp.down_proj.weight', 'transformer.layers.3.post_attention_layernorm.weight', 'transformer.layers.4.self_attn.o_proj.weight', 'transformer.layers.14.post_attention_layernorm.weight', 'transformer.layers.0.self_attn.o_proj.weight', 'transformer.layers.22.mlp.up_proj.weight', 'prompt_encoder.transfromer.layers.23.mlp.gate_proj.weight', 'transformer.layers.5.mlp.up_proj.weight', 'prompt_encoder.transfromer.layers.19.mlp.gate_proj.weight', 'transformer.layers.24.mlp.gate_proj.weight', 'transformer.layers.2.self_attn.o_proj.weight', 'prompt_encoder.transfromer.layers.5.self_attn.v_proj.weight', 'transformer.layers.3.self_attn.k_proj.weight', 'transformer.layers.5.mlp.gate_proj.weight', 'transformer.layers.14.self_attn.v_proj.weight', 'prompt_encoder.transfromer.layers.27.mlp.gate_proj.weight', 'prompt_encoder.transfromer.layers.30.post_attention_layernorm.weight', 'transformer.layers.28.input_layernorm.weight', 'transformer.layers.1.mlp.up_proj.weight', 'prompt_encoder.transfromer.layers.16.self_attn.k_proj.weight', 'prompt_encoder.transfromer.layers.14.self_attn.o_proj.weight', 'transformer.layers.27.self_attn.q_proj.weight', 'prompt_encoder.transfromer.layers.14.self_attn.q_proj.weight', 'transformer.layers.10.mlp.up_proj.weight', 'prompt_encoder.transfromer.layers.26.self_attn.o_proj.weight', 'transformer.layers.7.self_attn.k_proj.weight', 'prompt_encoder.transfromer.layers.20.self_attn.k_proj.weight', 'prompt_encoder.transfromer.layers.2.self_attn.v_proj.weight', 'transformer.layers.22.mlp.down_proj.weight', 'prompt_encoder.transfromer.layers.17.self_attn.k_proj.weight', 'transformer.layers.2.self_attn.v_proj.weight', 'prompt_encoder.transfromer.layers.0.mlp.up_proj.weight', 'prompt_encoder.transfromer.layers.16.input_layernorm.weight', 'transformer.layers.11.post_attention_layernorm.weight', 'transformer.layers.17.self_attn.o_proj.weight', 'transformer.layers.4.self_attn.v_proj.weight', 'prompt_encoder.transfromer.layers.3.input_layernorm.weight', 'prompt_encoder.transfromer.layers.7.self_attn.o_proj.weight', 'prompt_encoder.transfromer.layers.8.self_attn.q_proj.weight', 'transformer.layers.7.self_attn.q_proj.weight', 'transformer.layers.20.mlp.up_proj.weight', 'prompt_encoder.transfromer.layers.13.input_layernorm.weight', 'transformer.layers.2.self_attn.q_proj.weight', 'transformer.layers.20.mlp.down_proj.weight', 'transformer.layers.23.mlp.up_proj.weight', 'prompt_encoder.transfromer.layers.26.mlp.gate_proj.weight', 'prompt_encoder.transfromer.layers.15.mlp.up_proj.weight', 'prompt_encoder.transfromer.layers.20.mlp.up_proj.weight', 'prompt_encoder.transfromer.layers.18.mlp.up_proj.weight', 'prompt_encoder.transfromer.layers.11.input_layernorm.weight', 'prompt_encoder.transfromer.layers.5.input_layernorm.weight', 'prompt_encoder.transfromer.layers.30.mlp.down_proj.weight', 'prompt_encoder.transfromer.layers.21.mlp.gate_proj.weight', 'transformer.layers.26.mlp.up_proj.weight', 'prompt_encoder.transfromer.layers.10.mlp.up_proj.weight', 'transformer.layers.19.self_attn.k_proj.weight', 'transformer.layers.6.mlp.gate_proj.weight', 'transformer.layers.22.post_attention_layernorm.weight', 'transformer.layers.26.self_attn.o_proj.weight', 'transformer.layers.18.self_attn.q_proj.weight', 'transformer.layers.4.mlp.down_proj.weight', 'transformer.layers.30.self_attn.q_proj.weight', 'prompt_encoder.transfromer.layers.27.self_attn.q_proj.weight', 'transformer.layers.11.mlp.gate_proj.weight', 'prompt_encoder.transfromer.layers.18.self_attn.k_proj.weight', 'transformer.layers.19.mlp.up_proj.weight', 'transformer.layers.8.post_attention_layernorm.weight', 'prompt_encoder.transfromer.layers.31.self_attn.v_proj.weight', 'prompt_encoder.transfromer.layers.15.self_attn.v_proj.weight', 'prompt_encoder.transfromer.layers.13.self_attn.o_proj.weight', 'prompt_encoder.transfromer.layers.23.post_attention_layernorm.weight', 'prompt_encoder.transfromer.layers.12.self_attn.v_proj.weight', 'prompt_encoder.transfromer.layers.15.self_attn.k_proj.weight', 'prompt_encoder.transfromer.layers.11.post_attention_layernorm.weight', 'prompt_encoder.transfromer.layers.5.mlp.up_proj.weight', 'transformer.layers.8.input_layernorm.weight', 'transformer.layers.30.self_attn.o_proj.weight', 'transformer.layers.16.mlp.gate_proj.weight', 'prompt_encoder.transfromer.layers.9.post_attention_layernorm.weight', 'prompt_encoder.transfromer.layers.10.mlp.gate_proj.weight', 'prompt_encoder.transfromer.layers.10.self_attn.k_proj.weight', 'transformer.layers.30.post_attention_layernorm.weight', 'transformer.layers.9.mlp.gate_proj.weight', 'transformer.layers.6.self_attn.o_proj.weight', 'prompt_encoder.embedding.weight', 'transformer.layers.8.self_attn.k_proj.weight', 'prompt_encoder.transfromer.layers.17.post_attention_layernorm.weight', 'transformer.layers.19.self_attn.q_proj.weight', 'transformer.layers.22.input_layernorm.weight', 'prompt_encoder.transfromer.layers.1.self_attn.q_proj.weight', 'prompt_encoder.transfromer.layers.25.input_layernorm.weight', 'prompt_encoder.transfromer.layers.27.mlp.up_proj.weight']\n",
      "You should probably TRAIN this model on a down-stream task to be able to use it for predictions and inference.\n"
     ]
    }
   ],
   "source": [
    "from mistralSKT import  PrefixForSequenceClassification\n",
    "\n",
    "model = PrefixForSequenceClassification.from_pretrained(\n",
    "    model_name,\n",
    "    config=config,\n",
    "\n",
    ")"
   ]
  },
  {
   "cell_type": "code",
   "execution_count": 12,
   "id": "7fbd31bc-596b-4012-8925-be431b9fe680",
   "metadata": {},
   "outputs": [
    {
     "name": "stdout",
     "output_type": "stream",
     "text": [
      "Total Parameters: 7110729731\n",
      "Trainable Parameters: 69635\n",
      "Percentage Trainable: 0.00097929470862067290%\n"
     ]
    }
   ],
   "source": [
    "# Total number of parameters in the model\n",
    "total_parameters = model.num_parameters()\n",
    "\n",
    "# Total number of trainable parameters in the model\n",
    "trainable_parameters = sum(p.numel() for p in model.parameters() if p.requires_grad)\n",
    "\n",
    "# Calculate the percentage of trainable parameters\n",
    "percentage_trainable = (trainable_parameters / total_parameters) * 100\n",
    "\n",
    "print(f\"Total Parameters: {total_parameters}\")\n",
    "print(f\"Trainable Parameters: {trainable_parameters}\")\n",
    "print(f\"Percentage Trainable: {percentage_trainable:.20f}%\")"
   ]
  },
  {
   "cell_type": "code",
   "execution_count": 13,
   "id": "171405eb-cba9-4ae0-a2bd-7e85df4adae6",
   "metadata": {},
   "outputs": [],
   "source": [
    "import evaluate\n",
    "import numpy as np\n",
    "from sklearn import metrics\n",
    "import torch\n",
    "import numpy as np\n",
    "\n",
    "def compute_metrics(eval_pred):\n",
    "\n",
    "\n",
    "    logits, labels = eval_pred # eval_pred is the tuple of predictions and labels returned by the model\n",
    "    predictions = np.argmax(logits, axis=-1)\n",
    "    \n",
    "    precision = metrics.precision_score(labels, predictions, average=\"macro\")\n",
    "    recall = metrics.recall_score(labels, predictions, average=\"macro\")\n",
    "    f1 = metrics.f1_score(labels, predictions, average=\"macro\")\n",
    "    accuracy = metrics.accuracy_score(labels, predictions)\n",
    "    \n",
    "    return {\"precision\": precision, \"recall\": recall, \"f1-score\": f1, 'accuracy': accuracy}\n"
   ]
  },
  {
   "cell_type": "code",
   "execution_count": 15,
   "id": "47afa401-33fc-4d55-bddc-e9e42d4a0607",
   "metadata": {},
   "outputs": [
    {
     "name": "stderr",
     "output_type": "stream",
     "text": [
      "You're using a LlamaTokenizerFast tokenizer. Please note that with a fast tokenizer, using the `__call__` method is faster than using a method to encode the text followed by a call to the `pad` method to get a padded encoding.\n"
     ]
    },
    {
     "data": {
      "text/html": [
       "\n",
       "    <div>\n",
       "      \n",
       "      <progress value='26192' max='91562' style='width:300px; height:20px; vertical-align: middle;'></progress>\n",
       "      [26192/91562 13:06:16 < 32:42:31, 0.56 it/s, Epoch 0.57/2]\n",
       "    </div>\n",
       "    <table border=\"1\" class=\"dataframe\">\n",
       "  <thead>\n",
       " <tr style=\"text-align: left;\">\n",
       "      <th>Step</th>\n",
       "      <th>Training Loss</th>\n",
       "      <th>Validation Loss</th>\n",
       "      <th>Precision</th>\n",
       "      <th>Recall</th>\n",
       "      <th>F1-score</th>\n",
       "      <th>Accuracy</th>\n",
       "    </tr>\n",
       "  </thead>\n",
       "  <tbody>\n",
       "    <tr>\n",
       "      <td>1000</td>\n",
       "      <td>0.599000</td>\n",
       "      <td>0.413689</td>\n",
       "      <td>0.845630</td>\n",
       "      <td>0.842677</td>\n",
       "      <td>0.843589</td>\n",
       "      <td>0.842732</td>\n",
       "    </tr>\n",
       "    <tr>\n",
       "      <td>2000</td>\n",
       "      <td>0.441300</td>\n",
       "      <td>0.359358</td>\n",
       "      <td>0.869451</td>\n",
       "      <td>0.866698</td>\n",
       "      <td>0.867495</td>\n",
       "      <td>0.866755</td>\n",
       "    </tr>\n",
       "    <tr>\n",
       "      <td>3000</td>\n",
       "      <td>0.404100</td>\n",
       "      <td>0.353223</td>\n",
       "      <td>0.875446</td>\n",
       "      <td>0.874954</td>\n",
       "      <td>0.873745</td>\n",
       "      <td>0.874796</td>\n",
       "    </tr>\n",
       "    <tr>\n",
       "      <td>4000</td>\n",
       "      <td>0.378000</td>\n",
       "      <td>0.305617</td>\n",
       "      <td>0.894812</td>\n",
       "      <td>0.893922</td>\n",
       "      <td>0.893987</td>\n",
       "      <td>0.893730</td>\n",
       "    </tr>\n",
       "    <tr>\n",
       "      <td>5000</td>\n",
       "      <td>0.361000</td>\n",
       "      <td>0.305054</td>\n",
       "      <td>0.896208</td>\n",
       "      <td>0.894588</td>\n",
       "      <td>0.893601</td>\n",
       "      <td>0.895358</td>\n",
       "    </tr>\n",
       "    <tr>\n",
       "      <td>6000</td>\n",
       "      <td>0.353500</td>\n",
       "      <td>0.315745</td>\n",
       "      <td>0.896880</td>\n",
       "      <td>0.892371</td>\n",
       "      <td>0.892592</td>\n",
       "      <td>0.891694</td>\n",
       "    </tr>\n",
       "    <tr>\n",
       "      <td>7000</td>\n",
       "      <td>0.347100</td>\n",
       "      <td>0.320114</td>\n",
       "      <td>0.899103</td>\n",
       "      <td>0.896306</td>\n",
       "      <td>0.895466</td>\n",
       "      <td>0.897191</td>\n",
       "    </tr>\n",
       "    <tr>\n",
       "      <td>8000</td>\n",
       "      <td>0.332900</td>\n",
       "      <td>0.291599</td>\n",
       "      <td>0.900820</td>\n",
       "      <td>0.900619</td>\n",
       "      <td>0.899787</td>\n",
       "      <td>0.901059</td>\n",
       "    </tr>\n",
       "    <tr>\n",
       "      <td>9000</td>\n",
       "      <td>0.339900</td>\n",
       "      <td>0.319963</td>\n",
       "      <td>0.899468</td>\n",
       "      <td>0.895172</td>\n",
       "      <td>0.894703</td>\n",
       "      <td>0.896173</td>\n",
       "    </tr>\n",
       "    <tr>\n",
       "      <td>10000</td>\n",
       "      <td>0.335100</td>\n",
       "      <td>0.277374</td>\n",
       "      <td>0.905945</td>\n",
       "      <td>0.906370</td>\n",
       "      <td>0.905942</td>\n",
       "      <td>0.906555</td>\n",
       "    </tr>\n",
       "    <tr>\n",
       "      <td>11000</td>\n",
       "      <td>0.320100</td>\n",
       "      <td>0.275634</td>\n",
       "      <td>0.906718</td>\n",
       "      <td>0.906610</td>\n",
       "      <td>0.906654</td>\n",
       "      <td>0.906861</td>\n",
       "    </tr>\n",
       "    <tr>\n",
       "      <td>12000</td>\n",
       "      <td>0.314900</td>\n",
       "      <td>0.291218</td>\n",
       "      <td>0.903687</td>\n",
       "      <td>0.903904</td>\n",
       "      <td>0.903234</td>\n",
       "      <td>0.904214</td>\n",
       "    </tr>\n",
       "    <tr>\n",
       "      <td>13000</td>\n",
       "      <td>0.327900</td>\n",
       "      <td>0.288157</td>\n",
       "      <td>0.906936</td>\n",
       "      <td>0.906136</td>\n",
       "      <td>0.906039</td>\n",
       "      <td>0.905843</td>\n",
       "    </tr>\n",
       "    <tr>\n",
       "      <td>14000</td>\n",
       "      <td>0.342300</td>\n",
       "      <td>0.281122</td>\n",
       "      <td>0.906934</td>\n",
       "      <td>0.905056</td>\n",
       "      <td>0.905479</td>\n",
       "      <td>0.905639</td>\n",
       "    </tr>\n",
       "    <tr>\n",
       "      <td>15000</td>\n",
       "      <td>0.324500</td>\n",
       "      <td>0.271955</td>\n",
       "      <td>0.913003</td>\n",
       "      <td>0.912777</td>\n",
       "      <td>0.912818</td>\n",
       "      <td>0.913070</td>\n",
       "    </tr>\n",
       "    <tr>\n",
       "      <td>16000</td>\n",
       "      <td>0.328100</td>\n",
       "      <td>0.273041</td>\n",
       "      <td>0.913786</td>\n",
       "      <td>0.913664</td>\n",
       "      <td>0.913711</td>\n",
       "      <td>0.913884</td>\n",
       "    </tr>\n",
       "    <tr>\n",
       "      <td>17000</td>\n",
       "      <td>0.307500</td>\n",
       "      <td>0.281277</td>\n",
       "      <td>0.913110</td>\n",
       "      <td>0.913098</td>\n",
       "      <td>0.913099</td>\n",
       "      <td>0.913274</td>\n",
       "    </tr>\n",
       "    <tr>\n",
       "      <td>18000</td>\n",
       "      <td>0.325700</td>\n",
       "      <td>0.267131</td>\n",
       "      <td>0.909387</td>\n",
       "      <td>0.908657</td>\n",
       "      <td>0.908936</td>\n",
       "      <td>0.908897</td>\n",
       "    </tr>\n",
       "    <tr>\n",
       "      <td>19000</td>\n",
       "      <td>0.325900</td>\n",
       "      <td>0.260180</td>\n",
       "      <td>0.914373</td>\n",
       "      <td>0.914455</td>\n",
       "      <td>0.914325</td>\n",
       "      <td>0.914699</td>\n",
       "    </tr>\n",
       "    <tr>\n",
       "      <td>20000</td>\n",
       "      <td>0.325800</td>\n",
       "      <td>0.263192</td>\n",
       "      <td>0.914659</td>\n",
       "      <td>0.914906</td>\n",
       "      <td>0.914723</td>\n",
       "      <td>0.914902</td>\n",
       "    </tr>\n",
       "    <tr>\n",
       "      <td>21000</td>\n",
       "      <td>0.304300</td>\n",
       "      <td>0.275321</td>\n",
       "      <td>0.913901</td>\n",
       "      <td>0.913015</td>\n",
       "      <td>0.912874</td>\n",
       "      <td>0.912663</td>\n",
       "    </tr>\n",
       "    <tr>\n",
       "      <td>22000</td>\n",
       "      <td>0.321600</td>\n",
       "      <td>0.261070</td>\n",
       "      <td>0.912200</td>\n",
       "      <td>0.912086</td>\n",
       "      <td>0.911640</td>\n",
       "      <td>0.912459</td>\n",
       "    </tr>\n",
       "    <tr>\n",
       "      <td>23000</td>\n",
       "      <td>0.304800</td>\n",
       "      <td>0.259540</td>\n",
       "      <td>0.915349</td>\n",
       "      <td>0.914997</td>\n",
       "      <td>0.915144</td>\n",
       "      <td>0.915208</td>\n",
       "    </tr>\n",
       "    <tr>\n",
       "      <td>24000</td>\n",
       "      <td>0.318000</td>\n",
       "      <td>0.255973</td>\n",
       "      <td>0.916848</td>\n",
       "      <td>0.917059</td>\n",
       "      <td>0.916878</td>\n",
       "      <td>0.917243</td>\n",
       "    </tr>\n",
       "    <tr>\n",
       "      <td>25000</td>\n",
       "      <td>0.315100</td>\n",
       "      <td>0.267449</td>\n",
       "      <td>0.913990</td>\n",
       "      <td>0.914249</td>\n",
       "      <td>0.914067</td>\n",
       "      <td>0.914393</td>\n",
       "    </tr>\n",
       "    <tr>\n",
       "      <td>26000</td>\n",
       "      <td>0.329900</td>\n",
       "      <td>0.266558</td>\n",
       "      <td>0.912054</td>\n",
       "      <td>0.911588</td>\n",
       "      <td>0.911181</td>\n",
       "      <td>0.912052</td>\n",
       "    </tr>\n",
       "  </tbody>\n",
       "</table><p>"
      ],
      "text/plain": [
       "<IPython.core.display.HTML object>"
      ]
     },
     "metadata": {},
     "output_type": "display_data"
    },
    {
     "name": "stderr",
     "output_type": "stream",
     "text": [
      "Removed shared tensor {'prompt_encoder.transfromer.layers.14.mlp.up_proj.weight', 'prompt_encoder.transfromer.layers.9.mlp.gate_proj.weight', 'prompt_encoder.transfromer.layers.1.input_layernorm.weight', 'prompt_encoder.transfromer.layers.6.post_attention_layernorm.weight', 'prompt_encoder.transfromer.layers.21.self_attn.k_proj.weight', 'prompt_encoder.transfromer.layers.23.self_attn.o_proj.weight', 'prompt_encoder.transfromer.layers.29.self_attn.o_proj.weight', 'prompt_encoder.transfromer.layers.8.mlp.gate_proj.weight', 'prompt_encoder.transfromer.layers.31.self_attn.q_proj.weight', 'prompt_encoder.transfromer.layers.25.self_attn.q_proj.weight', 'prompt_encoder.transfromer.layers.24.input_layernorm.weight', 'prompt_encoder.transfromer.layers.23.self_attn.v_proj.weight', 'prompt_encoder.transfromer.layers.18.input_layernorm.weight', 'prompt_encoder.transfromer.layers.12.mlp.up_proj.weight', 'prompt_encoder.transfromer.layers.9.self_attn.q_proj.weight', 'prompt_encoder.transfromer.layers.21.self_attn.v_proj.weight', 'prompt_encoder.transfromer.layers.10.post_attention_layernorm.weight', 'prompt_encoder.transfromer.layers.19.self_attn.q_proj.weight', 'prompt_encoder.transfromer.layers.27.self_attn.v_proj.weight', 'prompt_encoder.transfromer.layers.28.self_attn.k_proj.weight', 'prompt_encoder.transfromer.layers.14.post_attention_layernorm.weight', 'prompt_encoder.transfromer.layers.24.self_attn.v_proj.weight', 'prompt_encoder.transfromer.layers.28.mlp.gate_proj.weight', 'prompt_encoder.transfromer.layers.3.mlp.up_proj.weight', 'prompt_encoder.transfromer.layers.29.input_layernorm.weight', 'prompt_encoder.transfromer.layers.17.input_layernorm.weight', 'prompt_encoder.transfromer.layers.28.mlp.down_proj.weight', 'prompt_encoder.transfromer.layers.27.input_layernorm.weight', 'prompt_encoder.transfromer.layers.8.self_attn.o_proj.weight', 'prompt_encoder.transfromer.layers.6.self_attn.q_proj.weight', 'prompt_encoder.transfromer.layers.20.self_attn.o_proj.weight', 'prompt_encoder.transfromer.layers.18.post_attention_layernorm.weight', 'prompt_encoder.transfromer.layers.29.mlp.down_proj.weight', 'prompt_encoder.transfromer.layers.21.mlp.down_proj.weight', 'prompt_encoder.transfromer.layers.23.mlp.up_proj.weight', 'prompt_encoder.transfromer.layers.31.mlp.gate_proj.weight', 'prompt_encoder.transfromer.layers.13.self_attn.q_proj.weight', 'prompt_encoder.transfromer.layers.17.mlp.up_proj.weight', 'prompt_encoder.transfromer.layers.9.self_attn.o_proj.weight', 'prompt_encoder.transfromer.layers.1.mlp.down_proj.weight', 'prompt_encoder.transfromer.layers.2.mlp.up_proj.weight', 'prompt_encoder.transfromer.layers.31.self_attn.o_proj.weight', 'prompt_encoder.transfromer.layers.30.self_attn.k_proj.weight', 'prompt_encoder.transfromer.layers.17.mlp.down_proj.weight', 'prompt_encoder.transfromer.layers.2.mlp.down_proj.weight', 'prompt_encoder.transfromer.layers.29.self_attn.q_proj.weight', 'prompt_encoder.transfromer.layers.19.mlp.up_proj.weight', 'prompt_encoder.transfromer.layers.20.mlp.gate_proj.weight', 'prompt_encoder.transfromer.layers.3.self_attn.q_proj.weight', 'prompt_encoder.transfromer.layers.31.input_layernorm.weight', 'prompt_encoder.transfromer.layers.4.mlp.down_proj.weight', 'prompt_encoder.transfromer.layers.15.mlp.down_proj.weight', 'prompt_encoder.transfromer.layers.7.post_attention_layernorm.weight', 'prompt_encoder.transfromer.layers.11.mlp.gate_proj.weight', 'prompt_encoder.transfromer.layers.6.input_layernorm.weight', 'prompt_encoder.transfromer.layers.10.self_attn.v_proj.weight', 'prompt_encoder.transfromer.layers.23.self_attn.q_proj.weight', 'prompt_encoder.transfromer.layers.19.self_attn.v_proj.weight', 'prompt_encoder.transfromer.layers.28.self_attn.q_proj.weight', 'prompt_encoder.transfromer.layers.0.self_attn.o_proj.weight', 'prompt_encoder.transfromer.layers.11.self_attn.v_proj.weight', 'prompt_encoder.transfromer.layers.7.self_attn.v_proj.weight', 'prompt_encoder.transfromer.layers.24.post_attention_layernorm.weight', 'prompt_encoder.transfromer.layers.27.self_attn.k_proj.weight', 'prompt_encoder.transfromer.layers.17.mlp.gate_proj.weight', 'prompt_encoder.transfromer.layers.1.post_attention_layernorm.weight', 'prompt_encoder.transfromer.layers.17.self_attn.o_proj.weight', 'prompt_encoder.transfromer.layers.4.self_attn.k_proj.weight', 'prompt_encoder.transfromer.layers.15.self_attn.q_proj.weight', 'prompt_encoder.transfromer.layers.22.self_attn.o_proj.weight', 'prompt_encoder.transfromer.layers.13.post_attention_layernorm.weight', 'prompt_encoder.transfromer.layers.8.input_layernorm.weight', 'prompt_encoder.transfromer.layers.0.input_layernorm.weight', 'prompt_encoder.transfromer.layers.12.self_attn.k_proj.weight', 'prompt_encoder.transfromer.layers.21.post_attention_layernorm.weight', 'prompt_encoder.transfromer.layers.30.input_layernorm.weight', 'prompt_encoder.transfromer.layers.16.mlp.up_proj.weight', 'prompt_encoder.transfromer.layers.26.mlp.down_proj.weight', 'prompt_encoder.transfromer.layers.14.self_attn.k_proj.weight', 'prompt_encoder.transfromer.layers.13.self_attn.k_proj.weight', 'prompt_encoder.transfromer.layers.1.mlp.up_proj.weight', 'prompt_encoder.transfromer.layers.8.self_attn.k_proj.weight', 'prompt_encoder.transfromer.layers.2.self_attn.k_proj.weight', 'prompt_encoder.transfromer.layers.17.self_attn.v_proj.weight', 'prompt_encoder.transfromer.layers.24.self_attn.o_proj.weight', 'prompt_encoder.transfromer.layers.16.self_attn.q_proj.weight', 'prompt_encoder.transfromer.layers.4.self_attn.q_proj.weight', 'prompt_encoder.transfromer.layers.19.mlp.down_proj.weight', 'prompt_encoder.transfromer.layers.1.self_attn.k_proj.weight', 'prompt_encoder.transfromer.layers.6.self_attn.k_proj.weight', 'prompt_encoder.transfromer.layers.11.mlp.down_proj.weight', 'prompt_encoder.transfromer.layers.11.self_attn.k_proj.weight', 'prompt_encoder.transfromer.layers.12.input_layernorm.weight', 'prompt_encoder.transfromer.layers.22.post_attention_layernorm.weight', 'prompt_encoder.transfromer.norm.weight', 'prompt_encoder.transfromer.layers.5.post_attention_layernorm.weight', 'prompt_encoder.transfromer.layers.16.post_attention_layernorm.weight', 'prompt_encoder.transfromer.layers.9.self_attn.v_proj.weight', 'prompt_encoder.transfromer.layers.28.mlp.up_proj.weight', 'prompt_encoder.transfromer.layers.31.mlp.down_proj.weight', 'prompt_encoder.transfromer.layers.3.self_attn.v_proj.weight', 'prompt_encoder.transfromer.layers.18.mlp.down_proj.weight', 'prompt_encoder.transfromer.layers.14.input_layernorm.weight', 'prompt_encoder.transfromer.layers.2.input_layernorm.weight', 'prompt_encoder.transfromer.layers.6.mlp.down_proj.weight', 'prompt_encoder.transfromer.layers.10.self_attn.o_proj.weight', 'prompt_encoder.transfromer.layers.17.self_attn.q_proj.weight', 'prompt_encoder.transfromer.layers.26.self_attn.q_proj.weight', 'prompt_encoder.transfromer.layers.5.self_attn.q_proj.weight', 'prompt_encoder.transfromer.layers.5.self_attn.k_proj.weight', 'prompt_encoder.transfromer.layers.29.mlp.up_proj.weight', 'prompt_encoder.transfromer.layers.0.mlp.gate_proj.weight', 'prompt_encoder.transfromer.layers.16.self_attn.v_proj.weight', 'prompt_encoder.transfromer.layers.22.input_layernorm.weight', 'prompt_encoder.transfromer.layers.11.mlp.up_proj.weight', 'prompt_encoder.transfromer.layers.6.mlp.gate_proj.weight', 'prompt_encoder.transfromer.layers.10.self_attn.q_proj.weight', 'prompt_encoder.transfromer.layers.14.mlp.gate_proj.weight', 'prompt_encoder.transfromer.layers.28.post_attention_layernorm.weight', 'prompt_encoder.transfromer.layers.21.mlp.up_proj.weight', 'prompt_encoder.transfromer.layers.22.mlp.gate_proj.weight', 'prompt_encoder.transfromer.layers.8.self_attn.v_proj.weight', 'prompt_encoder.transfromer.layers.15.mlp.gate_proj.weight', 'prompt_encoder.transfromer.layers.20.mlp.down_proj.weight', 'prompt_encoder.transfromer.layers.21.self_attn.o_proj.weight', 'prompt_encoder.transfromer.layers.29.post_attention_layernorm.weight', 'prompt_encoder.transfromer.layers.30.self_attn.q_proj.weight', 'prompt_encoder.transfromer.layers.13.mlp.down_proj.weight', 'prompt_encoder.transfromer.layers.0.self_attn.v_proj.weight', 'prompt_encoder.transfromer.layers.30.mlp.gate_proj.weight', 'prompt_encoder.transfromer.layers.7.input_layernorm.weight', 'prompt_encoder.transfromer.layers.6.self_attn.v_proj.weight', 'prompt_encoder.transfromer.layers.25.mlp.gate_proj.weight', 'prompt_encoder.transfromer.layers.26.mlp.up_proj.weight', 'prompt_encoder.transfromer.layers.29.self_attn.k_proj.weight', 'prompt_encoder.transfromer.layers.4.self_attn.o_proj.weight', 'prompt_encoder.transfromer.layers.0.self_attn.q_proj.weight', 'prompt_encoder.transfromer.layers.19.input_layernorm.weight', 'prompt_encoder.transfromer.layers.23.mlp.gate_proj.weight', 'prompt_encoder.transfromer.layers.31.self_attn.k_proj.weight', 'prompt_encoder.transfromer.layers.22.self_attn.k_proj.weight', 'prompt_encoder.transfromer.layers.9.mlp.down_proj.weight', 'prompt_encoder.transfromer.layers.12.mlp.gate_proj.weight', 'prompt_encoder.transfromer.layers.1.self_attn.v_proj.weight', 'prompt_encoder.transfromer.layers.12.self_attn.q_proj.weight', 'prompt_encoder.transfromer.layers.4.post_attention_layernorm.weight', 'prompt_encoder.transfromer.layers.8.mlp.up_proj.weight', 'prompt_encoder.transfromer.layers.14.mlp.down_proj.weight', 'prompt_encoder.transfromer.layers.2.self_attn.o_proj.weight', 'prompt_encoder.transfromer.layers.5.self_attn.v_proj.weight', 'prompt_encoder.transfromer.layers.14.self_attn.v_proj.weight', 'prompt_encoder.transfromer.layers.16.self_attn.o_proj.weight', 'prompt_encoder.transfromer.layers.11.self_attn.o_proj.weight', 'prompt_encoder.transfromer.layers.19.mlp.gate_proj.weight', 'prompt_encoder.transfromer.layers.13.mlp.gate_proj.weight', 'prompt_encoder.transfromer.layers.30.mlp.up_proj.weight', 'prompt_encoder.transfromer.layers.27.mlp.gate_proj.weight', 'prompt_encoder.transfromer.layers.30.post_attention_layernorm.weight', 'prompt_encoder.transfromer.layers.25.self_attn.k_proj.weight', 'prompt_encoder.transfromer.layers.27.post_attention_layernorm.weight', 'prompt_encoder.transfromer.layers.16.mlp.gate_proj.weight', 'prompt_encoder.transfromer.layers.16.self_attn.k_proj.weight', 'prompt_encoder.transfromer.layers.14.self_attn.o_proj.weight', 'prompt_encoder.transfromer.layers.14.self_attn.q_proj.weight', 'prompt_encoder.transfromer.layers.26.self_attn.o_proj.weight', 'prompt_encoder.transfromer.layers.24.mlp.gate_proj.weight', 'prompt_encoder.transfromer.layers.0.post_attention_layernorm.weight', 'prompt_encoder.transfromer.layers.0.mlp.down_proj.weight', 'prompt_encoder.transfromer.layers.25.self_attn.o_proj.weight', 'prompt_encoder.transfromer.layers.2.self_attn.q_proj.weight', 'prompt_encoder.transfromer.layers.2.self_attn.v_proj.weight', 'prompt_encoder.transfromer.layers.17.self_attn.k_proj.weight', 'prompt_encoder.transfromer.layers.20.self_attn.k_proj.weight', 'prompt_encoder.transfromer.layers.19.post_attention_layernorm.weight', 'prompt_encoder.transfromer.layers.0.mlp.up_proj.weight', 'prompt_encoder.transfromer.layers.7.mlp.down_proj.weight', 'prompt_encoder.transfromer.layers.13.mlp.up_proj.weight', 'prompt_encoder.transfromer.layers.9.self_attn.k_proj.weight', 'prompt_encoder.transfromer.layers.18.self_attn.q_proj.weight', 'prompt_encoder.transfromer.layers.16.input_layernorm.weight', 'prompt_encoder.transfromer.layers.28.input_layernorm.weight', 'prompt_encoder.transfromer.layers.3.input_layernorm.weight', 'prompt_encoder.transfromer.layers.7.self_attn.o_proj.weight', 'prompt_encoder.transfromer.layers.8.self_attn.q_proj.weight', 'prompt_encoder.transfromer.layers.28.self_attn.o_proj.weight', 'prompt_encoder.transfromer.layers.19.self_attn.k_proj.weight', 'prompt_encoder.transfromer.layers.2.mlp.gate_proj.weight', 'prompt_encoder.transfromer.layers.29.self_attn.v_proj.weight', 'prompt_encoder.transfromer.layers.13.input_layernorm.weight', 'prompt_encoder.transfromer.layers.18.self_attn.o_proj.weight', 'prompt_encoder.transfromer.layers.6.self_attn.o_proj.weight', 'prompt_encoder.transfromer.layers.26.mlp.gate_proj.weight', 'prompt_encoder.transfromer.layers.20.self_attn.q_proj.weight', 'prompt_encoder.transfromer.layers.24.mlp.up_proj.weight', 'prompt_encoder.transfromer.layers.23.mlp.down_proj.weight', 'prompt_encoder.transfromer.layers.24.mlp.down_proj.weight', 'prompt_encoder.transfromer.layers.15.mlp.up_proj.weight', 'prompt_encoder.transfromer.layers.5.mlp.gate_proj.weight', 'prompt_encoder.transfromer.layers.7.mlp.gate_proj.weight', 'prompt_encoder.transfromer.layers.31.post_attention_layernorm.weight', 'prompt_encoder.transfromer.layers.1.mlp.gate_proj.weight', 'prompt_encoder.transfromer.layers.18.mlp.up_proj.weight', 'prompt_encoder.transfromer.layers.2.post_attention_layernorm.weight', 'prompt_encoder.transfromer.layers.5.input_layernorm.weight', 'prompt_encoder.transfromer.layers.11.input_layernorm.weight', 'prompt_encoder.transfromer.layers.15.post_attention_layernorm.weight', 'prompt_encoder.transfromer.layers.20.mlp.up_proj.weight', 'prompt_encoder.transfromer.layers.21.mlp.gate_proj.weight', 'prompt_encoder.transfromer.layers.22.mlp.down_proj.weight', 'prompt_encoder.transfromer.layers.30.mlp.down_proj.weight', 'prompt_encoder.transfromer.layers.10.mlp.up_proj.weight', 'prompt_encoder.transfromer.layers.23.input_layernorm.weight', 'prompt_encoder.transfromer.layers.12.self_attn.o_proj.weight', 'prompt_encoder.transfromer.layers.3.mlp.down_proj.weight', 'prompt_encoder.transfromer.layers.13.self_attn.v_proj.weight', 'prompt_encoder.transfromer.layers.26.input_layernorm.weight', 'prompt_encoder.transfromer.layers.29.mlp.gate_proj.weight', 'prompt_encoder.transfromer.layers.3.self_attn.o_proj.weight', 'prompt_encoder.transfromer.layers.4.mlp.gate_proj.weight', 'prompt_encoder.transfromer.embed_tokens.weight', 'prompt_encoder.transfromer.layers.10.mlp.down_proj.weight', 'prompt_encoder.transfromer.layers.6.mlp.up_proj.weight', 'prompt_encoder.transfromer.layers.4.input_layernorm.weight', 'prompt_encoder.transfromer.layers.15.self_attn.o_proj.weight', 'prompt_encoder.transfromer.layers.30.self_attn.v_proj.weight', 'prompt_encoder.transfromer.layers.27.self_attn.o_proj.weight', 'prompt_encoder.transfromer.layers.4.mlp.up_proj.weight', 'prompt_encoder.transfromer.layers.18.self_attn.v_proj.weight', 'prompt_encoder.transfromer.layers.27.self_attn.q_proj.weight', 'prompt_encoder.transfromer.layers.26.post_attention_layernorm.weight', 'prompt_encoder.transfromer.layers.18.self_attn.k_proj.weight', 'prompt_encoder.transfromer.layers.30.self_attn.o_proj.weight', 'prompt_encoder.transfromer.layers.18.mlp.gate_proj.weight', 'prompt_encoder.transfromer.layers.3.self_attn.k_proj.weight', 'prompt_encoder.transfromer.layers.20.self_attn.v_proj.weight', 'prompt_encoder.transfromer.layers.20.input_layernorm.weight', 'prompt_encoder.transfromer.layers.12.mlp.down_proj.weight', 'prompt_encoder.transfromer.layers.11.self_attn.q_proj.weight', 'prompt_encoder.transfromer.layers.12.post_attention_layernorm.weight', 'prompt_encoder.transfromer.layers.31.self_attn.v_proj.weight', 'prompt_encoder.transfromer.layers.15.self_attn.v_proj.weight', 'prompt_encoder.transfromer.layers.13.self_attn.o_proj.weight', 'prompt_encoder.transfromer.layers.20.post_attention_layernorm.weight', 'prompt_encoder.transfromer.layers.22.mlp.up_proj.weight', 'prompt_encoder.transfromer.layers.3.post_attention_layernorm.weight', 'prompt_encoder.transfromer.layers.31.mlp.up_proj.weight', 'prompt_encoder.transfromer.layers.21.self_attn.q_proj.weight', 'prompt_encoder.transfromer.layers.7.self_attn.k_proj.weight', 'prompt_encoder.transfromer.layers.23.post_attention_layernorm.weight', 'prompt_encoder.transfromer.layers.24.self_attn.k_proj.weight', 'prompt_encoder.transfromer.layers.12.self_attn.v_proj.weight', 'prompt_encoder.transfromer.layers.15.self_attn.k_proj.weight', 'prompt_encoder.transfromer.layers.10.input_layernorm.weight', 'prompt_encoder.transfromer.layers.11.post_attention_layernorm.weight', 'prompt_encoder.transfromer.layers.7.self_attn.q_proj.weight', 'prompt_encoder.transfromer.layers.1.self_attn.o_proj.weight', 'prompt_encoder.transfromer.layers.5.mlp.up_proj.weight', 'prompt_encoder.transfromer.layers.3.mlp.gate_proj.weight', 'prompt_encoder.transfromer.layers.22.self_attn.v_proj.weight', 'prompt_encoder.transfromer.layers.8.mlp.down_proj.weight', 'prompt_encoder.transfromer.layers.27.mlp.down_proj.weight', 'prompt_encoder.transfromer.layers.22.self_attn.q_proj.weight', 'prompt_encoder.transfromer.layers.25.self_attn.v_proj.weight', 'prompt_encoder.transfromer.layers.28.self_attn.v_proj.weight', 'prompt_encoder.transfromer.layers.15.input_layernorm.weight', 'prompt_encoder.transfromer.layers.7.mlp.up_proj.weight', 'prompt_encoder.transfromer.layers.25.post_attention_layernorm.weight', 'prompt_encoder.transfromer.layers.9.post_attention_layernorm.weight', 'prompt_encoder.transfromer.layers.5.self_attn.o_proj.weight', 'prompt_encoder.transfromer.layers.10.self_attn.k_proj.weight', 'prompt_encoder.transfromer.layers.10.mlp.gate_proj.weight', 'prompt_encoder.transfromer.layers.23.self_attn.k_proj.weight', 'prompt_encoder.transfromer.layers.9.mlp.up_proj.weight', 'prompt_encoder.transfromer.layers.19.self_attn.o_proj.weight', 'prompt_encoder.transfromer.layers.25.mlp.up_proj.weight', 'prompt_encoder.transfromer.layers.8.post_attention_layernorm.weight', 'prompt_encoder.transfromer.layers.25.mlp.down_proj.weight', 'prompt_encoder.transfromer.layers.16.mlp.down_proj.weight', 'prompt_encoder.transfromer.layers.5.mlp.down_proj.weight', 'prompt_encoder.transfromer.layers.9.input_layernorm.weight', 'prompt_encoder.transfromer.layers.0.self_attn.k_proj.weight', 'prompt_encoder.transfromer.layers.17.post_attention_layernorm.weight', 'prompt_encoder.transfromer.layers.21.input_layernorm.weight', 'prompt_encoder.transfromer.layers.26.self_attn.v_proj.weight', 'prompt_encoder.transfromer.layers.4.self_attn.v_proj.weight', 'prompt_encoder.transfromer.layers.24.self_attn.q_proj.weight', 'prompt_encoder.transfromer.layers.1.self_attn.q_proj.weight', 'prompt_encoder.transfromer.layers.25.input_layernorm.weight', 'prompt_encoder.transfromer.layers.27.mlp.up_proj.weight', 'prompt_encoder.transfromer.layers.26.self_attn.k_proj.weight'} while saving. This should be OK, but check by verifying that you don't receive any warning while reloading\n"
     ]
    },
    {
     "ename": "KeyboardInterrupt",
     "evalue": "",
     "output_type": "error",
     "traceback": [
      "\u001b[0;31m---------------------------------------------------------------------------\u001b[0m",
      "\u001b[0;31mKeyboardInterrupt\u001b[0m                         Traceback (most recent call last)",
      "Cell \u001b[0;32mIn[15], line 29\u001b[0m\n\u001b[1;32m      3\u001b[0m training_args \u001b[38;5;241m=\u001b[39m TrainingArguments(\n\u001b[1;32m      4\u001b[0m     output_dir\u001b[38;5;241m=\u001b[39m\u001b[38;5;124m'\u001b[39m\u001b[38;5;124m./r_task\u001b[39m\u001b[38;5;124m'\u001b[39m,\n\u001b[1;32m      5\u001b[0m     \u001b[38;5;66;03m#learning_rate=1e-5,\u001b[39;00m\n\u001b[0;32m   (...)\u001b[0m\n\u001b[1;32m     16\u001b[0m     load_best_model_at_end\u001b[38;5;241m=\u001b[39m\u001b[38;5;28;01mTrue\u001b[39;00m,\n\u001b[1;32m     17\u001b[0m )\n\u001b[1;32m     19\u001b[0m trainer \u001b[38;5;241m=\u001b[39m Trainer(\n\u001b[1;32m     20\u001b[0m     model\u001b[38;5;241m=\u001b[39mmodel,\n\u001b[1;32m     21\u001b[0m     args\u001b[38;5;241m=\u001b[39mtraining_args,\n\u001b[0;32m   (...)\u001b[0m\n\u001b[1;32m     26\u001b[0m     compute_metrics\u001b[38;5;241m=\u001b[39mcompute_metrics\n\u001b[1;32m     27\u001b[0m )\n\u001b[0;32m---> 29\u001b[0m \u001b[43mtrainer\u001b[49m\u001b[38;5;241;43m.\u001b[39;49m\u001b[43mtrain\u001b[49m\u001b[43m(\u001b[49m\u001b[43m)\u001b[49m\n",
      "File \u001b[0;32m/opt/conda/lib/python3.10/site-packages/transformers/trainer.py:1537\u001b[0m, in \u001b[0;36mTrainer.train\u001b[0;34m(self, resume_from_checkpoint, trial, ignore_keys_for_eval, **kwargs)\u001b[0m\n\u001b[1;32m   1535\u001b[0m         hf_hub_utils\u001b[38;5;241m.\u001b[39menable_progress_bars()\n\u001b[1;32m   1536\u001b[0m \u001b[38;5;28;01melse\u001b[39;00m:\n\u001b[0;32m-> 1537\u001b[0m     \u001b[38;5;28;01mreturn\u001b[39;00m \u001b[43minner_training_loop\u001b[49m\u001b[43m(\u001b[49m\n\u001b[1;32m   1538\u001b[0m \u001b[43m        \u001b[49m\u001b[43margs\u001b[49m\u001b[38;5;241;43m=\u001b[39;49m\u001b[43margs\u001b[49m\u001b[43m,\u001b[49m\n\u001b[1;32m   1539\u001b[0m \u001b[43m        \u001b[49m\u001b[43mresume_from_checkpoint\u001b[49m\u001b[38;5;241;43m=\u001b[39;49m\u001b[43mresume_from_checkpoint\u001b[49m\u001b[43m,\u001b[49m\n\u001b[1;32m   1540\u001b[0m \u001b[43m        \u001b[49m\u001b[43mtrial\u001b[49m\u001b[38;5;241;43m=\u001b[39;49m\u001b[43mtrial\u001b[49m\u001b[43m,\u001b[49m\n\u001b[1;32m   1541\u001b[0m \u001b[43m        \u001b[49m\u001b[43mignore_keys_for_eval\u001b[49m\u001b[38;5;241;43m=\u001b[39;49m\u001b[43mignore_keys_for_eval\u001b[49m\u001b[43m,\u001b[49m\n\u001b[1;32m   1542\u001b[0m \u001b[43m    \u001b[49m\u001b[43m)\u001b[49m\n",
      "File \u001b[0;32m/opt/conda/lib/python3.10/site-packages/transformers/trainer.py:1854\u001b[0m, in \u001b[0;36mTrainer._inner_training_loop\u001b[0;34m(self, batch_size, args, resume_from_checkpoint, trial, ignore_keys_for_eval)\u001b[0m\n\u001b[1;32m   1851\u001b[0m     \u001b[38;5;28mself\u001b[39m\u001b[38;5;241m.\u001b[39mcontrol \u001b[38;5;241m=\u001b[39m \u001b[38;5;28mself\u001b[39m\u001b[38;5;241m.\u001b[39mcallback_handler\u001b[38;5;241m.\u001b[39mon_step_begin(args, \u001b[38;5;28mself\u001b[39m\u001b[38;5;241m.\u001b[39mstate, \u001b[38;5;28mself\u001b[39m\u001b[38;5;241m.\u001b[39mcontrol)\n\u001b[1;32m   1853\u001b[0m \u001b[38;5;28;01mwith\u001b[39;00m \u001b[38;5;28mself\u001b[39m\u001b[38;5;241m.\u001b[39maccelerator\u001b[38;5;241m.\u001b[39maccumulate(model):\n\u001b[0;32m-> 1854\u001b[0m     tr_loss_step \u001b[38;5;241m=\u001b[39m \u001b[38;5;28;43mself\u001b[39;49m\u001b[38;5;241;43m.\u001b[39;49m\u001b[43mtraining_step\u001b[49m\u001b[43m(\u001b[49m\u001b[43mmodel\u001b[49m\u001b[43m,\u001b[49m\u001b[43m \u001b[49m\u001b[43minputs\u001b[49m\u001b[43m)\u001b[49m\n\u001b[1;32m   1856\u001b[0m \u001b[38;5;28;01mif\u001b[39;00m (\n\u001b[1;32m   1857\u001b[0m     args\u001b[38;5;241m.\u001b[39mlogging_nan_inf_filter\n\u001b[1;32m   1858\u001b[0m     \u001b[38;5;129;01mand\u001b[39;00m \u001b[38;5;129;01mnot\u001b[39;00m is_torch_tpu_available()\n\u001b[1;32m   1859\u001b[0m     \u001b[38;5;129;01mand\u001b[39;00m (torch\u001b[38;5;241m.\u001b[39misnan(tr_loss_step) \u001b[38;5;129;01mor\u001b[39;00m torch\u001b[38;5;241m.\u001b[39misinf(tr_loss_step))\n\u001b[1;32m   1860\u001b[0m ):\n\u001b[1;32m   1861\u001b[0m     \u001b[38;5;66;03m# if loss is nan or inf simply add the average of previous logged losses\u001b[39;00m\n\u001b[1;32m   1862\u001b[0m     tr_loss \u001b[38;5;241m+\u001b[39m\u001b[38;5;241m=\u001b[39m tr_loss \u001b[38;5;241m/\u001b[39m (\u001b[38;5;241m1\u001b[39m \u001b[38;5;241m+\u001b[39m \u001b[38;5;28mself\u001b[39m\u001b[38;5;241m.\u001b[39mstate\u001b[38;5;241m.\u001b[39mglobal_step \u001b[38;5;241m-\u001b[39m \u001b[38;5;28mself\u001b[39m\u001b[38;5;241m.\u001b[39m_globalstep_last_logged)\n",
      "File \u001b[0;32m/opt/conda/lib/python3.10/site-packages/transformers/trainer.py:2744\u001b[0m, in \u001b[0;36mTrainer.training_step\u001b[0;34m(self, model, inputs)\u001b[0m\n\u001b[1;32m   2742\u001b[0m         scaled_loss\u001b[38;5;241m.\u001b[39mbackward()\n\u001b[1;32m   2743\u001b[0m \u001b[38;5;28;01melse\u001b[39;00m:\n\u001b[0;32m-> 2744\u001b[0m     \u001b[38;5;28;43mself\u001b[39;49m\u001b[38;5;241;43m.\u001b[39;49m\u001b[43maccelerator\u001b[49m\u001b[38;5;241;43m.\u001b[39;49m\u001b[43mbackward\u001b[49m\u001b[43m(\u001b[49m\u001b[43mloss\u001b[49m\u001b[43m)\u001b[49m\n\u001b[1;32m   2746\u001b[0m \u001b[38;5;28;01mreturn\u001b[39;00m loss\u001b[38;5;241m.\u001b[39mdetach() \u001b[38;5;241m/\u001b[39m \u001b[38;5;28mself\u001b[39m\u001b[38;5;241m.\u001b[39margs\u001b[38;5;241m.\u001b[39mgradient_accumulation_steps\n",
      "File \u001b[0;32m/opt/conda/lib/python3.10/site-packages/accelerate/accelerator.py:1905\u001b[0m, in \u001b[0;36mAccelerator.backward\u001b[0;34m(self, loss, **kwargs)\u001b[0m\n\u001b[1;32m   1903\u001b[0m     \u001b[38;5;28mself\u001b[39m\u001b[38;5;241m.\u001b[39mscaler\u001b[38;5;241m.\u001b[39mscale(loss)\u001b[38;5;241m.\u001b[39mbackward(\u001b[38;5;241m*\u001b[39m\u001b[38;5;241m*\u001b[39mkwargs)\n\u001b[1;32m   1904\u001b[0m \u001b[38;5;28;01melse\u001b[39;00m:\n\u001b[0;32m-> 1905\u001b[0m     \u001b[43mloss\u001b[49m\u001b[38;5;241;43m.\u001b[39;49m\u001b[43mbackward\u001b[49m\u001b[43m(\u001b[49m\u001b[38;5;241;43m*\u001b[39;49m\u001b[38;5;241;43m*\u001b[39;49m\u001b[43mkwargs\u001b[49m\u001b[43m)\u001b[49m\n",
      "File \u001b[0;32m/opt/conda/lib/python3.10/site-packages/torch/_tensor.py:487\u001b[0m, in \u001b[0;36mTensor.backward\u001b[0;34m(self, gradient, retain_graph, create_graph, inputs)\u001b[0m\n\u001b[1;32m    477\u001b[0m \u001b[38;5;28;01mif\u001b[39;00m has_torch_function_unary(\u001b[38;5;28mself\u001b[39m):\n\u001b[1;32m    478\u001b[0m     \u001b[38;5;28;01mreturn\u001b[39;00m handle_torch_function(\n\u001b[1;32m    479\u001b[0m         Tensor\u001b[38;5;241m.\u001b[39mbackward,\n\u001b[1;32m    480\u001b[0m         (\u001b[38;5;28mself\u001b[39m,),\n\u001b[0;32m   (...)\u001b[0m\n\u001b[1;32m    485\u001b[0m         inputs\u001b[38;5;241m=\u001b[39minputs,\n\u001b[1;32m    486\u001b[0m     )\n\u001b[0;32m--> 487\u001b[0m \u001b[43mtorch\u001b[49m\u001b[38;5;241;43m.\u001b[39;49m\u001b[43mautograd\u001b[49m\u001b[38;5;241;43m.\u001b[39;49m\u001b[43mbackward\u001b[49m\u001b[43m(\u001b[49m\n\u001b[1;32m    488\u001b[0m \u001b[43m    \u001b[49m\u001b[38;5;28;43mself\u001b[39;49m\u001b[43m,\u001b[49m\u001b[43m \u001b[49m\u001b[43mgradient\u001b[49m\u001b[43m,\u001b[49m\u001b[43m \u001b[49m\u001b[43mretain_graph\u001b[49m\u001b[43m,\u001b[49m\u001b[43m \u001b[49m\u001b[43mcreate_graph\u001b[49m\u001b[43m,\u001b[49m\u001b[43m \u001b[49m\u001b[43minputs\u001b[49m\u001b[38;5;241;43m=\u001b[39;49m\u001b[43minputs\u001b[49m\n\u001b[1;32m    489\u001b[0m \u001b[43m\u001b[49m\u001b[43m)\u001b[49m\n",
      "File \u001b[0;32m/opt/conda/lib/python3.10/site-packages/torch/autograd/__init__.py:200\u001b[0m, in \u001b[0;36mbackward\u001b[0;34m(tensors, grad_tensors, retain_graph, create_graph, grad_variables, inputs)\u001b[0m\n\u001b[1;32m    195\u001b[0m     retain_graph \u001b[38;5;241m=\u001b[39m create_graph\n\u001b[1;32m    197\u001b[0m \u001b[38;5;66;03m# The reason we repeat same the comment below is that\u001b[39;00m\n\u001b[1;32m    198\u001b[0m \u001b[38;5;66;03m# some Python versions print out the first line of a multi-line function\u001b[39;00m\n\u001b[1;32m    199\u001b[0m \u001b[38;5;66;03m# calls in the traceback and some print out the last line\u001b[39;00m\n\u001b[0;32m--> 200\u001b[0m \u001b[43mVariable\u001b[49m\u001b[38;5;241;43m.\u001b[39;49m\u001b[43m_execution_engine\u001b[49m\u001b[38;5;241;43m.\u001b[39;49m\u001b[43mrun_backward\u001b[49m\u001b[43m(\u001b[49m\u001b[43m  \u001b[49m\u001b[38;5;66;43;03m# Calls into the C++ engine to run the backward pass\u001b[39;49;00m\n\u001b[1;32m    201\u001b[0m \u001b[43m    \u001b[49m\u001b[43mtensors\u001b[49m\u001b[43m,\u001b[49m\u001b[43m \u001b[49m\u001b[43mgrad_tensors_\u001b[49m\u001b[43m,\u001b[49m\u001b[43m \u001b[49m\u001b[43mretain_graph\u001b[49m\u001b[43m,\u001b[49m\u001b[43m \u001b[49m\u001b[43mcreate_graph\u001b[49m\u001b[43m,\u001b[49m\u001b[43m \u001b[49m\u001b[43minputs\u001b[49m\u001b[43m,\u001b[49m\n\u001b[1;32m    202\u001b[0m \u001b[43m    \u001b[49m\u001b[43mallow_unreachable\u001b[49m\u001b[38;5;241;43m=\u001b[39;49m\u001b[38;5;28;43;01mTrue\u001b[39;49;00m\u001b[43m,\u001b[49m\u001b[43m \u001b[49m\u001b[43maccumulate_grad\u001b[49m\u001b[38;5;241;43m=\u001b[39;49m\u001b[38;5;28;43;01mTrue\u001b[39;49;00m\u001b[43m)\u001b[49m\n",
      "\u001b[0;31mKeyboardInterrupt\u001b[0m: "
     ]
    }
   ],
   "source": [
    "from transformers import TrainingArguments, Trainer\n",
    "\n",
    "training_args = TrainingArguments(\n",
    "    output_dir='./r_task',\n",
    "    #learning_rate=1e-5,\n",
    "    per_device_train_batch_size=12,\n",
    "    per_device_eval_batch_size=12,\n",
    "    num_train_epochs=2,\n",
    "    weight_decay=0.01,\n",
    "    evaluation_strategy=\"steps\",\n",
    "    save_strategy=\"steps\",\n",
    "    save_total_limit=2,\n",
    "    save_steps=1000,\n",
    "    logging_steps=1000,\n",
    "   \n",
    "    load_best_model_at_end=True,\n",
    ")\n",
    "\n",
    "trainer = Trainer(\n",
    "    model=model,\n",
    "    args=training_args,\n",
    "    train_dataset=tokenized_train_dataset,\n",
    "    eval_dataset=tokenized_test_dataset,\n",
    "    tokenizer=tokenizer,\n",
    "    data_collator=data_collator,\n",
    "    compute_metrics=compute_metrics\n",
    ")\n",
    "\n",
    "trainer.train()"
   ]
  },
  {
   "cell_type": "code",
   "execution_count": null,
   "id": "16762135-f4cc-4626-a4cb-361567e26284",
   "metadata": {},
   "outputs": [],
   "source": []
  }
 ],
 "metadata": {
  "kernelspec": {
   "display_name": "Python 3 (ipykernel)",
   "language": "python",
   "name": "python3"
  },
  "language_info": {
   "codemirror_mode": {
    "name": "ipython",
    "version": 3
   },
   "file_extension": ".py",
   "mimetype": "text/x-python",
   "name": "python",
   "nbconvert_exporter": "python",
   "pygments_lexer": "ipython3",
   "version": "3.10.11"
  }
 },
 "nbformat": 4,
 "nbformat_minor": 5
}
